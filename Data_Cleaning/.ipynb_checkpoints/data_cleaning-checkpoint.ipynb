{
 "cells": [
  {
   "cell_type": "code",
   "execution_count": 234,
   "id": "2f750d04",
   "metadata": {},
   "outputs": [],
   "source": [
    "import pandas as pd\n",
    "import numpy as np\n",
    "import ast"
   ]
  },
  {
   "cell_type": "code",
   "execution_count": 5,
   "id": "7a28317a",
   "metadata": {},
   "outputs": [],
   "source": [
    "df1=pd.read_csv(\"pre_cleaning.csv\")\n",
    "df=df1.copy()"
   ]
  },
  {
   "cell_type": "code",
   "execution_count": 6,
   "id": "36970069",
   "metadata": {},
   "outputs": [],
   "source": [
    "pd.set_option('display.max_rows', None)\n",
    "pd.set_option('display.max_columns', None)\n",
    "pd.set_option('display.max_colwidth', None)"
   ]
  },
  {
   "cell_type": "markdown",
   "id": "f97a1119",
   "metadata": {},
   "source": [
    "## kind of projects we make with it\n",
    "- Exploratory Data Analysis (EDA): Perform EDA to uncover insights about the laptop market, such as popular brands, common features, and price ranges.\n",
    "- Price Prediction: Build a machine learning model to predict the price of a laptop based on its specifications, such as CPU, RAM, storage, graphics card, etc.\n",
    "- Recommendation System: Create a recommendation system that suggests laptops to users based on their preferences, budget, and usage requirements.\n",
    "- Classification: Build a classification model to categorize laptops into different classes, such as gaming laptops, business laptops, ultrabooks, etc., based on their attributes.\n",
    "- Customer Segmentation: Segment customers based on their laptop preferences and behaviors to help manufacturers and retailers target specific market segments effectively."
   ]
  },
  {
   "cell_type": "code",
   "execution_count": 20,
   "id": "8f2ee6b7",
   "metadata": {},
   "outputs": [],
   "source": [
    "with pd.ExcelWriter(\"temp.xlsx\") as writer:\n",
    "    df.to_excel(writer,sheet_name=\"laptop_dataset\")"
   ]
  },
  {
   "cell_type": "code",
   "execution_count": 485,
   "id": "7df1b5bd",
   "metadata": {},
   "outputs": [
    {
     "data": {
      "text/plain": [
       "Index(['price', 'Brand', 'num_votes', 'Ratings', 'utility', 'thickness',\n",
       "       'weight', 'warranty', 'screen_size', 'resolution', 'ppi', 'processor',\n",
       "       'threads', 'graphic_card', 'ram', 'hard_disk', 'battery1', 'hdmi',\n",
       "       'wifi', 'usb', 'camera', 'others', 'antiglare1', 'aspect_ratio1',\n",
       "       'touch_screen1', 'battery', 'cores', 'cores1', 'threads1',\n",
       "       'battery_capacity', 'battery_cell', 'col1', 'col2', 'col3', 'col4',\n",
       "       'col5', 'hdmi1', 'ethernet', 'multi_card_reader', 'thunderbolt',\n",
       "       'display_port', 'vga'],\n",
       "      dtype='object')"
      ]
     },
     "execution_count": 485,
     "metadata": {},
     "output_type": "execute_result"
    }
   ],
   "source": [
    "df.columns"
   ]
  },
  {
   "cell_type": "markdown",
   "id": "2c75dd89",
   "metadata": {},
   "source": [
    "## Data Accessing\n",
    "**Quality Issues**\n",
    "1. price-There is no problem in price column.\n",
    "2. Brand-There is no problem in brand column.\n",
    "3. num_votes\n",
    "    - there is \",\" between values\n",
    "    - type of column is object\n",
    "4. num_reviews\n",
    "    - 766 null values i think we should delete this column\n",
    "    - type is float\n",
    "5. Ratings- There is no problem\n",
    "6. os\n",
    "    - In os column approx thousand columns have windows then i don't think that it is an important column. so i think i will delete it.\n",
    "7. utility\n",
    "    - contains values of thickness remove it and place null value.\n",
    "8. thickness\n",
    "    - thickness is given in mm so only keep the digit and remove everything \n",
    "    - any value that doesnot start with thickness remove it\n",
    "9. weight\n",
    "    - remove anything that is not weight\n",
    "    - some values are in gm so convert it to kg \n",
    "    - convert its data type to float\n",
    "10. warranty\n",
    "    - remove anything that is not year\n",
    "    - convert it to integer values are given in year \n",
    "11. screen_size\n",
    "    - values are given in inches remove everything except int value\n",
    "    - convert data type to integer\n",
    "12. resolution\n",
    "    - remove any other value\n",
    "    - keep only resolution value\n",
    "    - 528,777 move it one side right\n",
    "13. ppi\n",
    "    - 528,777 take value from resolution\n",
    "    - covert it to int\n",
    "14. antiglare\n",
    "    - remove every value except antiglare\n",
    "    - convert it to binary value where 0 means not available and 1 means available\n",
    "15. touchscreen\n",
    "    - remove every value except touchscreen\n",
    "    - convert it to binary value where 0 means not available and 1 means available\n",
    "16. processor\n",
    "    - make three columns (processor_brand, processor_gen, processor model)\n",
    "17. cores\n",
    "    - in column 363 value of thread is given \n",
    "18. threads\n",
    "    - in column 363 value of cache is given\n",
    "19. cache\n",
    "    - some values are null cache are given in mb\n",
    "    - one value is smart cache\n",
    "20. graphic_card\n",
    "       - make three columns (graphics_brand, graphics_capacity, graphics_model)\n",
    "21. ram\n",
    "    - take only capacity value make it numerical\n",
    "22. hard_disk\n",
    "    - 99% hard disk are ssd so i think it to convert it all t ssd and store only capacity in gb\n",
    "    - convert tb values also to gb\n",
    "23. battery1\n",
    "    - covert this column to list using avl library so that this column becomes clean\n",
    "    - make two columns out of it cell, wh\n",
    "24. hdmi\n",
    "    - convert this column to list and make a new column for every category and store values in it\n",
    "25. wifi\n",
    "    - make two columns one for wifi and one for bluetooth and store values in it\n",
    "    - at some places there is no wifi value\n",
    "26. usb\n",
    "    - make three columns usb2 ,  usb3 , type c and store number of ports in it\n",
    "    \n",
    "27. camera\n",
    "    - only 37 values are given so i think i will remove this column\n",
    "28. others \n",
    "    - 4 null values\n",
    "    - make 3 new columns (backlight keyboard, inbuilt microphone , fingerprint sensor)\n",
    "    \n",
    "    \n",
    "    \n"
   ]
  },
  {
   "cell_type": "markdown",
   "id": "61241453",
   "metadata": {},
   "source": [
    "utility - contains four categories(everyday use, bussiness, performance, gaming)"
   ]
  },
  {
   "cell_type": "code",
   "execution_count": 56,
   "id": "84ff792e",
   "metadata": {},
   "outputs": [],
   "source": [
    "#her i replace \",\" with nothing\n",
    "df[\"num_votes\"]=df[\"num_votes\"].str.replace(\",\",\"\")"
   ]
  },
  {
   "cell_type": "code",
   "execution_count": 66,
   "id": "5b5b274b",
   "metadata": {},
   "outputs": [],
   "source": [
    "#here we drop num_reviews column\n",
    "df.drop(\"num_reviews\",axis=1,inplace=True)"
   ]
  },
  {
   "cell_type": "code",
   "execution_count": 68,
   "id": "b9d55a41",
   "metadata": {},
   "outputs": [],
   "source": [
    "#here i drop os column\n",
    "df.drop(\"os\",axis=1,inplace=True)"
   ]
  },
  {
   "cell_type": "code",
   "execution_count": 148,
   "id": "0ee2580f",
   "metadata": {},
   "outputs": [],
   "source": [
    "# here i make a copy of df just in case any mistake happens\n",
    "temp_df=df.copy()"
   ]
  },
  {
   "cell_type": "code",
   "execution_count": 149,
   "id": "f55025a2",
   "metadata": {},
   "outputs": [],
   "source": [
    "#in this case we fetch all the values which contains \"thickness\" in \"utility\" column store it in thickness column and return null value\n",
    "x=df[df[\"utility\"].str.startswith(\"Thickness:\")]\n",
    "temp_df.loc[x.index,\"thickness\"]=x[\"utility\"]\n",
    "temp_df.loc[x.index,\"utility\"]=np.nan"
   ]
  },
  {
   "cell_type": "code",
   "execution_count": 151,
   "id": "aeadef6d",
   "metadata": {},
   "outputs": [],
   "source": [
    "#we fetch values of weight from warranty column store it in weight and return null values\n",
    "x=df[~df[\"warranty\"].str.contains(\"Year\")]\n",
    "temp_df.loc[x.index,\"weight\"]=x[\"warranty\"]\n",
    "temp_df.loc[x.index,\"warranty\"]=np.nan"
   ]
  },
  {
   "cell_type": "code",
   "execution_count": 152,
   "id": "0a5d8b1f",
   "metadata": {},
   "outputs": [],
   "source": [
    "#in this we replace any value which not contain thickness in thickness column with null value.\n",
    "x=temp_df[~temp_df[\"thickness\"].str.startswith(\"Thickness:\")]\n",
    "temp_df.loc[x.index,\"thickness\"]=np.nan"
   ]
  },
  {
   "cell_type": "code",
   "execution_count": 153,
   "id": "d17e6adb",
   "metadata": {},
   "outputs": [],
   "source": [
    "#we replace any value which not contain weight in \"weight\" column with null value\n",
    "x=temp_df[temp_df[\"weight\"].str.contains(\"|\".join([\"Thickness:\",\"Utility:\"]))]\n",
    "temp_df.loc[x.index,\"weight\"]=np.nan"
   ]
  },
  {
   "cell_type": "code",
   "execution_count": 156,
   "id": "c502341d",
   "metadata": {},
   "outputs": [],
   "source": [
    "#here we again store temp_df to df\n",
    "df=temp_df"
   ]
  },
  {
   "cell_type": "code",
   "execution_count": 178,
   "id": "4ab787a6",
   "metadata": {},
   "outputs": [],
   "source": [
    "#this step is to be done so that masking should be applied\n",
    "df[\"antiglare\"].fillna(\"False\",inplace=True)\n",
    "df[\"aspect_ratio\"].fillna(\"False\",inplace=True)\n",
    "df[\"touchscreen\"].fillna(\"False\",inplace=True)"
   ]
  },
  {
   "cell_type": "code",
   "execution_count": 181,
   "id": "69588183",
   "metadata": {},
   "outputs": [],
   "source": [
    "\n",
    "temp_df=df"
   ]
  },
  {
   "cell_type": "code",
   "execution_count": 185,
   "id": "8d709d7f",
   "metadata": {},
   "outputs": [],
   "source": [
    "#first shift 2 antiglare values in ppi to antiglare column\n",
    "x=temp_df[temp_df[\"ppi\"].str.contains(\"Anti Glare\")]\n",
    "temp_df.loc[x.index,\"antiglare\"]=x[\"ppi\"]"
   ]
  },
  {
   "cell_type": "code",
   "execution_count": 189,
   "id": "f4cb1c8f",
   "metadata": {},
   "outputs": [],
   "source": [
    "#now do the same thing for the ppi column \n",
    "x=temp_df[temp_df[\"ppi\"].str.contains(\"Anti Glare\")]\n",
    "temp_df.loc[x.index,\"ppi\"]=x[\"resolution\"]"
   ]
  },
  {
   "cell_type": "code",
   "execution_count": 192,
   "id": "e38c17d8",
   "metadata": {},
   "outputs": [],
   "source": [
    "#here we set the values in resolution in which ppi is given to null\n",
    "temp_df.loc[temp_df[temp_df[\"resolution\"].str.contains(\"PPI\")].index,\"resolution\"]=np.nan"
   ]
  },
  {
   "cell_type": "code",
   "execution_count": 210,
   "id": "716bc01d",
   "metadata": {},
   "outputs": [],
   "source": [
    "#in this we make a new column \"antiglare1\" and store all antiglare values from antiglare touchscreen and aspect ratio column\n",
    "x=temp_df[temp_df[\"antiglare\"].str.contains(\"Anti Glare\")]\n",
    "y=temp_df[temp_df[\"aspect_ratio\"].str.contains(\"Anti Glare\")]\n",
    "z=temp_df[temp_df[\"touchscreen\"].str.contains(\"Anti Glare\")]\n",
    "temp_df[\"antiglare1\"]=x[\"antiglare\"]\n",
    "temp_df.loc[y.index,\"antiglare1\"]=y[\"aspect_ratio\"]\n",
    "temp_df.loc[z.index,\"antiglare1\"]=z[\"touchscreen\"]"
   ]
  },
  {
   "cell_type": "code",
   "execution_count": 211,
   "id": "ef39687f",
   "metadata": {},
   "outputs": [],
   "source": [
    "#in this we make a new column \"aspect_ratio1\" and store all antiglare values from antiglare touchscreen and aspect ratio column\n",
    "x=temp_df[temp_df[\"antiglare\"].str.contains(\"Aspect Ratio\")]\n",
    "y=temp_df[temp_df[\"aspect_ratio\"].str.contains(\"Aspect Ratio\")]\n",
    "z=temp_df[temp_df[\"touchscreen\"].str.contains(\"Aspect Ratio\")]\n",
    "temp_df[\"aspect_ratio1\"]=x[\"antiglare\"]\n",
    "temp_df.loc[y.index,\"aspect_ratio1\"]=y[\"aspect_ratio\"]\n",
    "temp_df.loc[z.index,\"aspect_ratio1\"]=z[\"touchscreen\"]"
   ]
  },
  {
   "cell_type": "code",
   "execution_count": 215,
   "id": "cb1202a1",
   "metadata": {},
   "outputs": [],
   "source": [
    "#in this we make a new column \"touch_screen1\" and store all antiglare values from antiglare touchscreen and aspect ratio column\n",
    "x=temp_df[temp_df[\"antiglare\"].str.contains(\"Touch\")]\n",
    "y=temp_df[temp_df[\"aspect_ratio\"].str.contains(\"Touch\")]\n",
    "z=temp_df[temp_df[\"touchscreen\"].str.contains(\"Touch\")]\n",
    "temp_df[\"touch_screen1\"]=x[\"antiglare\"]\n",
    "temp_df.loc[y.index,\"touch_screen1\"]=y[\"aspect_ratio\"]\n",
    "temp_df.loc[z.index,\"touch_screen1\"]=z[\"touchscreen\"]"
   ]
  },
  {
   "cell_type": "code",
   "execution_count": 220,
   "id": "a8676293",
   "metadata": {},
   "outputs": [],
   "source": [
    "# here we drop extra columns\n",
    "temp_df.drop([\"antiglare\",\"aspect_ratio\",\"touchscreen\"],axis=1,inplace=True)"
   ]
  },
  {
   "cell_type": "markdown",
   "id": "7c269e7d",
   "metadata": {},
   "source": [
    "## Cores"
   ]
  },
  {
   "cell_type": "code",
   "execution_count": 256,
   "id": "71ca60f6",
   "metadata": {},
   "outputs": [],
   "source": [
    "#in this we delete \"cores\" column because same information is in \"threads\" column.\n",
    "df.drop(\"cores\",axis=1,inplace=True)"
   ]
  },
  {
   "cell_type": "markdown",
   "id": "a8f44f97",
   "metadata": {},
   "source": [
    "## Threads"
   ]
  },
  {
   "cell_type": "code",
   "execution_count": 283,
   "id": "0ce9d023",
   "metadata": {},
   "outputs": [],
   "source": [
    "#in this we split this column into two columns \"cores\",\"threads\"\n",
    "df[\"cores\"]=df[\"threads\"].str.split(\",\").str[0]\n",
    "df[\"cores\"].fillna(\"False\",inplace=True)\n",
    "df[\"cores1\"]=df[df[\"cores\"].str.contains(\"Core\")][\"cores\"]\n",
    "    \n"
   ]
  },
  {
   "cell_type": "code",
   "execution_count": 298,
   "id": "6f94434e",
   "metadata": {},
   "outputs": [],
   "source": [
    "temp_df=df.copy()"
   ]
  },
  {
   "cell_type": "code",
   "execution_count": 299,
   "id": "61f0506c",
   "metadata": {},
   "outputs": [],
   "source": [
    "temp_df[\"threads\"]=temp_df[\"threads\"].str.split(\",\")"
   ]
  },
  {
   "cell_type": "code",
   "execution_count": 317,
   "id": "0a35f1f7",
   "metadata": {},
   "outputs": [],
   "source": [
    "temp_df.fillna(\"False\",inplace=True)"
   ]
  },
  {
   "cell_type": "code",
   "execution_count": null,
   "id": "2d87d99e",
   "metadata": {},
   "outputs": [],
   "source": [
    "list=[]\n",
    "for i in temp_df[\"threads\"]:\n",
    "    if len(i)==2:\n",
    "        list.append(i[1])\n",
    "    elif i[0].endswith(\"Threads\"):\n",
    "        list.append(i[0])\n",
    "    else:\n",
    "        list.append(np.nan)\n",
    "\n",
    "temp_df[\"threads\"]=pd.Series(list)"
   ]
  },
  {
   "cell_type": "code",
   "execution_count": 323,
   "id": "22d42234",
   "metadata": {},
   "outputs": [],
   "source": [
    "df[\"threads\"]=temp_df[\"threads\"] "
   ]
  },
  {
   "cell_type": "markdown",
   "id": "3bea2ba6",
   "metadata": {},
   "source": [
    "## Cache"
   ]
  },
  {
   "cell_type": "code",
   "execution_count": 325,
   "id": "62179277",
   "metadata": {},
   "outputs": [],
   "source": [
    "df.drop(\"cache\",axis=1,inplace=True)"
   ]
  },
  {
   "cell_type": "markdown",
   "id": "f784b175",
   "metadata": {},
   "source": [
    "## Battery"
   ]
  },
  {
   "cell_type": "code",
   "execution_count": 329,
   "id": "81cc0399",
   "metadata": {},
   "outputs": [],
   "source": [
    "df[\"battery1\"].fillna(\"False\",inplace=True)\n",
    "new_list=[]\n",
    "for i in df[\"battery1\"]:\n",
    "    my_list = ast.literal_eval(i)\n",
    "    new_list.append(my_list)\n",
    "df[\"battery\"]=pd.Series(new_list)"
   ]
  },
  {
   "cell_type": "code",
   "execution_count": 338,
   "id": "5b4db36c",
   "metadata": {},
   "outputs": [],
   "source": [
    "temp_df=df.copy()"
   ]
  },
  {
   "cell_type": "code",
   "execution_count": 406,
   "id": "a1c2b9f5",
   "metadata": {},
   "outputs": [],
   "source": [
    "capacity=[]\n",
    "cell=[]\n",
    "for i in temp_df[\"battery\"]:\n",
    "    if i is not False:\n",
    "        for j in i:\n",
    "            if len(j.split(\",\"))==2:\n",
    "                for k in j.split(\",\"):\n",
    "                    if \"Wh\" in k:\n",
    "                        capacity.append(k)\n",
    "                    elif \"Cell\" in k:\n",
    "                        cell.append(k)\n",
    "            elif len(j.split(\",\"))==1:\n",
    "                for k in j.split(\",\"):\n",
    "                    if \"Wh\" in k:\n",
    "                        capacity.append(k)\n",
    "                        cell.append(np.nan)\n",
    "                    elif \"Cell\" in k:\n",
    "                        cell.append(k)\n",
    "                        capacity.append(np.nan)\n",
    "                    else:\n",
    "                        capacity.append(np.nan)\n",
    "                        cell.append(np.nan)\n",
    "                \n",
    "            \n",
    "    else:\n",
    "        capacity.append(np.nan)\n",
    "        cell.append(np.nan)\n",
    "temp_df[[\"battery_capacity\",\"battery_cell\"]]=pd.Series({\"battery_capacity\":capacity,\"battery_cell\":cell})\n",
    "\n",
    "        "
   ]
  },
  {
   "cell_type": "code",
   "execution_count": 413,
   "id": "38902a58",
   "metadata": {
    "scrolled": true
   },
   "outputs": [],
   "source": [
    "df=temp_df"
   ]
  },
  {
   "cell_type": "markdown",
   "id": "047d0577",
   "metadata": {},
   "source": [
    "## HDMI"
   ]
  },
  {
   "cell_type": "code",
   "execution_count": 424,
   "id": "a2325c54",
   "metadata": {},
   "outputs": [
    {
     "data": {
      "text/plain": [
       "2.0    437\n",
       "1.0    303\n",
       "3.0    222\n",
       "4.0     35\n",
       "5.0      4\n",
       "Name: hdmi, dtype: int64"
      ]
     },
     "execution_count": 424,
     "metadata": {},
     "output_type": "execute_result"
    }
   ],
   "source": [
    "df[\"hdmi\"].str.split(\",\").str.len().value_counts()"
   ]
  },
  {
   "cell_type": "code",
   "execution_count": 425,
   "id": "0708ae0c",
   "metadata": {},
   "outputs": [],
   "source": [
    "temp_df=df.copy()"
   ]
  },
  {
   "cell_type": "code",
   "execution_count": 431,
   "id": "539b2024",
   "metadata": {},
   "outputs": [],
   "source": [
    "temp_df[\"hdmi\"]=temp_df[\"hdmi\"].str.split(\",\")"
   ]
  },
  {
   "cell_type": "code",
   "execution_count": 450,
   "id": "09ca8d9d",
   "metadata": {},
   "outputs": [],
   "source": [
    "temp_df[\"hdmi\"].fillna(\"False\",inplace=True)"
   ]
  },
  {
   "cell_type": "code",
   "execution_count": 455,
   "id": "d52cd19e",
   "metadata": {},
   "outputs": [],
   "source": [
    "col1=[]\n",
    "col2=[]\n",
    "col3=[]\n",
    "col4=[]\n",
    "col5=[]\n",
    "for i in temp_df[\"hdmi\"]:\n",
    "    if i is not False:\n",
    "        if len(i)==5:\n",
    "            col1.append(i[0])\n",
    "            col2.append(i[1])\n",
    "            col3.append(i[2])\n",
    "            col4.append(i[3])\n",
    "            col5.append(i[4])\n",
    "        elif len(i)==4:\n",
    "            col1.append(i[0])\n",
    "            col2.append(i[1])\n",
    "            col3.append(i[2])\n",
    "            col4.append(i[3])\n",
    "            col5.append(np.nan)\n",
    "        elif len(i)==3:\n",
    "            col1.append(i[0])\n",
    "            col2.append(i[1])\n",
    "            col3.append(i[2])\n",
    "            col4.append(np.nan)\n",
    "            col5.append(np.nan)\n",
    "        elif len(i)==2:\n",
    "            col1.append(i[0])\n",
    "            col2.append(i[1])\n",
    "            col3.append(np.nan)\n",
    "            col4.append(np.nan)\n",
    "            col5.append(np.nan)\n",
    "        elif len(i)==1:\n",
    "            col1.append(i[0])\n",
    "            col2.append(np.nan)\n",
    "            col3.append(np.nan)\n",
    "            col4.append(np.nan)\n",
    "            col5.append(np.nan)\n",
    "    else:\n",
    "        col1.append(np.nan)\n",
    "        col2.append(np.nan)\n",
    "        col3.append(np.nan)\n",
    "        col4.append(np.nan)\n",
    "        col5.append(np.nan)\n",
    "\n",
    "temp_df[\"col1\"]=col1\n",
    "temp_df[\"col2\"]=col2\n",
    "temp_df[\"col3\"]=col3\n",
    "temp_df[\"col4\"]=col4\n",
    "temp_df[\"col5\"]=col5\n",
    "       "
   ]
  },
  {
   "cell_type": "code",
   "execution_count": 464,
   "id": "f8e3e3aa",
   "metadata": {},
   "outputs": [],
   "source": [
    "temp_df[\"col1\"].fillna(\"False\",inplace=True)\n",
    "temp_df[\"col2\"].fillna(\"False\",inplace=True)\n",
    "temp_df[\"col3\"].fillna(\"False\",inplace=True)\n",
    "temp_df[\"col4\"].fillna(\"False\",inplace=True)\n",
    "temp_df[\"col5\"].fillna(\"False\",inplace=True)"
   ]
  },
  {
   "cell_type": "code",
   "execution_count": 467,
   "id": "84b15eca",
   "metadata": {},
   "outputs": [],
   "source": [
    "a=temp_df[temp_df[\"col1\"].str.contains(\"HDMI\")]\n",
    "b=temp_df[temp_df[\"col2\"].str.contains(\"HDMI\")]\n",
    "c=temp_df[temp_df[\"col3\"].str.contains(\"HDMI\")]\n",
    "d=temp_df[temp_df[\"col4\"].str.contains(\"HDMI\")]\n",
    "e=temp_df[temp_df[\"col5\"].str.contains(\"HDMI\")]\n",
    "temp_df[\"hdmi1\"]=a[\"col1\"]\n",
    "temp_df.loc[b.index,\"hdmi1\"]=b[\"col2\"]\n",
    "temp_df.loc[c.index,\"hdmi1\"]=c[\"col3\"]\n",
    "temp_df.loc[d.index,\"hdmi1\"]=d[\"col4\"]\n",
    "temp_df.loc[e.index,\"hdmi1\"]=e[\"col5\"]"
   ]
  },
  {
   "cell_type": "code",
   "execution_count": 471,
   "id": "c24abed5",
   "metadata": {},
   "outputs": [],
   "source": [
    "a=temp_df[temp_df[\"col1\"].str.contains(\"Ethernet\")]\n",
    "b=temp_df[temp_df[\"col2\"].str.contains(\"Ethernet\")]\n",
    "c=temp_df[temp_df[\"col3\"].str.contains(\"Ethernet\")]\n",
    "d=temp_df[temp_df[\"col4\"].str.contains(\"Ethernet\")]\n",
    "e=temp_df[temp_df[\"col5\"].str.contains(\"Ethernet\")]\n",
    "temp_df[\"ethernet\"]=a[\"col1\"]\n",
    "temp_df.loc[b.index,\"ethernet\"]=b[\"col2\"]\n",
    "temp_df.loc[c.index,\"ethernet\"]=c[\"col3\"]\n",
    "temp_df.loc[d.index,\"ethernet\"]=d[\"col4\"]\n",
    "temp_df.loc[e.index,\"ethernet\"]=e[\"col5\"]"
   ]
  },
  {
   "cell_type": "code",
   "execution_count": 472,
   "id": "989ebb66",
   "metadata": {},
   "outputs": [],
   "source": [
    "a=temp_df[temp_df[\"col1\"].str.contains(\"Multi\")]\n",
    "b=temp_df[temp_df[\"col2\"].str.contains(\"Multi\")]\n",
    "c=temp_df[temp_df[\"col3\"].str.contains(\"Multi\")]\n",
    "d=temp_df[temp_df[\"col4\"].str.contains(\"Multi\")]\n",
    "e=temp_df[temp_df[\"col5\"].str.contains(\"Multi\")]\n",
    "temp_df[\"multi_card_reader\"]=a[\"col1\"]\n",
    "temp_df.loc[b.index,\"multi_card_reader\"]=b[\"col2\"]\n",
    "temp_df.loc[c.index,\"multi_card_reader\"]=c[\"col3\"]\n",
    "temp_df.loc[d.index,\"multi_card_reader\"]=d[\"col4\"]\n",
    "temp_df.loc[e.index,\"multi_card_reader\"]=e[\"col5\"]"
   ]
  },
  {
   "cell_type": "code",
   "execution_count": 475,
   "id": "206ee968",
   "metadata": {},
   "outputs": [],
   "source": [
    "a=temp_df[temp_df[\"col1\"].str.contains(\"VGA\")]\n",
    "b=temp_df[temp_df[\"col2\"].str.contains(\"VGA\")]\n",
    "c=temp_df[temp_df[\"col3\"].str.contains(\"VGA\")]\n",
    "d=temp_df[temp_df[\"col4\"].str.contains(\"VGA\")]\n",
    "e=temp_df[temp_df[\"col5\"].str.contains(\"VGA\")]\n",
    "temp_df[\"vga\"]=a[\"col1\"]\n",
    "temp_df.loc[b.index,\"vga\"]=b[\"col2\"]\n",
    "temp_df.loc[c.index,\"vga\"]=c[\"col3\"]\n",
    "temp_df.loc[d.index,\"vga\"]=d[\"col4\"]\n",
    "temp_df.loc[e.index,\"vga\"]=e[\"col5\"]"
   ]
  },
  {
   "cell_type": "code",
   "execution_count": 473,
   "id": "6e84426a",
   "metadata": {},
   "outputs": [],
   "source": [
    "a=temp_df[temp_df[\"col1\"].str.contains(\"Thunderbolt\")]\n",
    "b=temp_df[temp_df[\"col2\"].str.contains(\"Thunderbolt\")]\n",
    "c=temp_df[temp_df[\"col3\"].str.contains(\"Thunderbolt\")]\n",
    "d=temp_df[temp_df[\"col4\"].str.contains(\"Thunderbolt\")]\n",
    "e=temp_df[temp_df[\"col5\"].str.contains(\"Thunderbolt\")]\n",
    "temp_df[\"thunderbolt\"]=a[\"col1\"]\n",
    "temp_df.loc[b.index,\"thunderbolt\"]=b[\"col2\"]\n",
    "temp_df.loc[c.index,\"thunderbolt\"]=c[\"col3\"]\n",
    "temp_df.loc[d.index,\"thunderbolt\"]=d[\"col4\"]\n",
    "temp_df.loc[e.index,\"thunderbolt\"]=e[\"col5\"]"
   ]
  },
  {
   "cell_type": "code",
   "execution_count": 474,
   "id": "95c5728d",
   "metadata": {},
   "outputs": [],
   "source": [
    "a=temp_df[temp_df[\"col1\"].str.contains(\"Display\")]\n",
    "b=temp_df[temp_df[\"col2\"].str.contains(\"Display\")]\n",
    "c=temp_df[temp_df[\"col3\"].str.contains(\"Display\")]\n",
    "d=temp_df[temp_df[\"col4\"].str.contains(\"Display\")]\n",
    "e=temp_df[temp_df[\"col5\"].str.contains(\"Display\")]\n",
    "temp_df[\"display_port\"]=a[\"col1\"]\n",
    "temp_df.loc[b.index,\"display_port\"]=b[\"col2\"]\n",
    "temp_df.loc[c.index,\"display_port\"]=c[\"col3\"]\n",
    "temp_df.loc[d.index,\"display_port\"]=d[\"col4\"]\n",
    "temp_df.loc[e.index,\"display_port\"]=e[\"col5\"]"
   ]
  },
  {
   "cell_type": "code",
   "execution_count": 484,
   "id": "09d3774c",
   "metadata": {},
   "outputs": [],
   "source": [
    "df=temp_df"
   ]
  },
  {
   "cell_type": "markdown",
   "id": "70e3f101",
   "metadata": {},
   "source": [
    "## Wifi"
   ]
  },
  {
   "cell_type": "code",
   "execution_count": 487,
   "id": "65df7e77",
   "metadata": {},
   "outputs": [],
   "source": [
    "temp_df=df.copy()"
   ]
  },
  {
   "cell_type": "code",
   "execution_count": 492,
   "id": "9a0bb946",
   "metadata": {},
   "outputs": [],
   "source": [
    "temp_df[\"wifi\"].value_counts()\n",
    "temp_df[\"wifi\"].isnull().sum()\n",
    "# only three laptops which dont have wifi so it is a useless column\n",
    "df.drop(\"wifi\",axis=1,inplace=True)"
   ]
  },
  {
   "cell_type": "markdown",
   "id": "58ba64cf",
   "metadata": {},
   "source": [
    "## USB"
   ]
  },
  {
   "cell_type": "code",
   "execution_count": 618,
   "id": "0ad5dbfe",
   "metadata": {},
   "outputs": [],
   "source": [
    "temp_df=df.copy()"
   ]
  },
  {
   "cell_type": "code",
   "execution_count": 619,
   "id": "67ad011a",
   "metadata": {},
   "outputs": [],
   "source": [
    "temp_df[\"usb\"]=temp_df[\"usb\"].str.split(\",\")\n"
   ]
  },
  {
   "cell_type": "code",
   "execution_count": 620,
   "id": "5524e5bd",
   "metadata": {},
   "outputs": [],
   "source": [
    "col1=[]\n",
    "col2=[]\n",
    "col3=[]\n",
    "temp_df[\"usb\"].fillna(\"False\",inplace=True)\n",
    "for i in temp_df[\"usb\"]:\n",
    "    if i is not False:\n",
    "        if len(i)==3:\n",
    "            col1.append(i[0])\n",
    "            col2.append(i[1])\n",
    "            col3.append(i[2])\n",
    "        elif len(i)==2:\n",
    "            col1.append(i[0])\n",
    "            col2.append(i[1])\n",
    "            col3.append(np.nan)\n",
    "        elif len(i)==1:\n",
    "            col1.append(i[0])\n",
    "            col2.append(np.nan)\n",
    "            col3.append(np.nan)\n",
    "        else:\n",
    "            col1.append(np.nan)\n",
    "            col2.append(np.nan)\n",
    "            col3.append(np.nan)\n",
    "    else:\n",
    "        col1.append(np.nan)\n",
    "        col2.append(np.nan)\n",
    "        col3.append(np.nan)\n",
    "temp_df[\"usb_2\"]=col1\n",
    "temp_df[\"usb_3\"]=col2\n",
    "temp_df[\"type_c\"]=col3\n",
    "    "
   ]
  },
  {
   "cell_type": "code",
   "execution_count": 621,
   "id": "2f3b6b36",
   "metadata": {},
   "outputs": [],
   "source": [
    "temp_df[\"usb_2\"].fillna(\"False\",inplace=True)\n",
    "temp_df[\"usb_3\"].fillna(\"False\",inplace=True)\n",
    "temp_df[\"type_c\"].fillna(\"False\",inplace=True)"
   ]
  },
  {
   "cell_type": "code",
   "execution_count": 622,
   "id": "387e626f",
   "metadata": {},
   "outputs": [],
   "source": [
    "a=temp_df[temp_df[\"usb_2\"].str.contains(\"USB 2.0\")]\n",
    "b=temp_df[temp_df[\"usb_3\"].str.contains(\"USB 2.0\")]\n",
    "c=temp_df[temp_df[\"type_c\"].str.contains(\"USB 2.0\")]\n",
    "temp_df[\"usb2\"]=a[\"usb_2\"]\n",
    "temp_df.loc[b.index,\"usb2\"]=b[\"usb_3\"]\n",
    "temp_df.loc[c.index,\"usb2\"]=c[\"type_c\"]\n"
   ]
  },
  {
   "cell_type": "code",
   "execution_count": 623,
   "id": "fbe7e2ec",
   "metadata": {},
   "outputs": [],
   "source": [
    "a=temp_df[temp_df[\"usb_2\"].str.contains(\"USB 3.0\")]\n",
    "b=temp_df[temp_df[\"usb_3\"].str.contains(\"USB 3.0\")]\n",
    "c=temp_df[temp_df[\"type_c\"].str.contains(\"USB 3.0\")]\n",
    "temp_df[\"usb3\"]=a[\"usb_2\"]\n",
    "temp_df.loc[b.index,\"usb3\"]=b[\"usb_3\"]\n",
    "temp_df.loc[c.index,\"usb3\"]=c[\"type_c\"]"
   ]
  },
  {
   "cell_type": "code",
   "execution_count": 624,
   "id": "2430d47e",
   "metadata": {},
   "outputs": [],
   "source": [
    "a=temp_df[temp_df[\"usb_2\"].str.contains(\"Type-C\")]\n",
    "b=temp_df[temp_df[\"usb_3\"].str.contains(\"Type-C\")]\n",
    "c=temp_df[temp_df[\"type_c\"].str.contains(\"Type-C\")]\n",
    "temp_df[\"typec\"]=a[\"usb_2\"]\n",
    "temp_df.loc[b.index,\"typec\"]=b[\"usb_3\"]\n",
    "temp_df.loc[c.index,\"typec\"]=c[\"type_c\"]"
   ]
  },
  {
   "cell_type": "code",
   "execution_count": 626,
   "id": "0357cf42",
   "metadata": {},
   "outputs": [],
   "source": [
    "df[[\"usb2\",\"usb3\",\"typec\"]]=temp_df[[\"usb2\",\"usb3\",\"typec\"]]"
   ]
  },
  {
   "cell_type": "markdown",
   "id": "d8abcdc6",
   "metadata": {},
   "source": [
    "## Camera"
   ]
  },
  {
   "cell_type": "code",
   "execution_count": 539,
   "id": "3ffad005",
   "metadata": {
    "collapsed": true
   },
   "outputs": [
    {
     "ename": "KeyError",
     "evalue": "'camera'",
     "output_type": "error",
     "traceback": [
      "\u001b[1;31m---------------------------------------------------------------------------\u001b[0m",
      "\u001b[1;31mKeyError\u001b[0m                                  Traceback (most recent call last)",
      "File \u001b[1;32m~\\anaconda3\\Lib\\site-packages\\pandas\\core\\indexes\\base.py:3802\u001b[0m, in \u001b[0;36mIndex.get_loc\u001b[1;34m(self, key, method, tolerance)\u001b[0m\n\u001b[0;32m   3801\u001b[0m \u001b[38;5;28;01mtry\u001b[39;00m:\n\u001b[1;32m-> 3802\u001b[0m     \u001b[38;5;28;01mreturn\u001b[39;00m \u001b[38;5;28mself\u001b[39m\u001b[38;5;241m.\u001b[39m_engine\u001b[38;5;241m.\u001b[39mget_loc(casted_key)\n\u001b[0;32m   3803\u001b[0m \u001b[38;5;28;01mexcept\u001b[39;00m \u001b[38;5;167;01mKeyError\u001b[39;00m \u001b[38;5;28;01mas\u001b[39;00m err:\n",
      "File \u001b[1;32m~\\anaconda3\\Lib\\site-packages\\pandas\\_libs\\index.pyx:138\u001b[0m, in \u001b[0;36mpandas._libs.index.IndexEngine.get_loc\u001b[1;34m()\u001b[0m\n",
      "File \u001b[1;32m~\\anaconda3\\Lib\\site-packages\\pandas\\_libs\\index.pyx:165\u001b[0m, in \u001b[0;36mpandas._libs.index.IndexEngine.get_loc\u001b[1;34m()\u001b[0m\n",
      "File \u001b[1;32mpandas\\_libs\\hashtable_class_helper.pxi:5745\u001b[0m, in \u001b[0;36mpandas._libs.hashtable.PyObjectHashTable.get_item\u001b[1;34m()\u001b[0m\n",
      "File \u001b[1;32mpandas\\_libs\\hashtable_class_helper.pxi:5753\u001b[0m, in \u001b[0;36mpandas._libs.hashtable.PyObjectHashTable.get_item\u001b[1;34m()\u001b[0m\n",
      "\u001b[1;31mKeyError\u001b[0m: 'camera'",
      "\nThe above exception was the direct cause of the following exception:\n",
      "\u001b[1;31mKeyError\u001b[0m                                  Traceback (most recent call last)",
      "Cell \u001b[1;32mIn[539], line 1\u001b[0m\n\u001b[1;32m----> 1\u001b[0m df[\u001b[38;5;124m\"\u001b[39m\u001b[38;5;124mcamera\u001b[39m\u001b[38;5;124m\"\u001b[39m]\u001b[38;5;241m.\u001b[39misnull()\u001b[38;5;241m.\u001b[39msum()\n\u001b[0;32m      2\u001b[0m \u001b[38;5;66;03m# there are almost 983 null values\u001b[39;00m\n\u001b[0;32m      3\u001b[0m df\u001b[38;5;241m.\u001b[39mdrop(\u001b[38;5;124m\"\u001b[39m\u001b[38;5;124mcamera\u001b[39m\u001b[38;5;124m\"\u001b[39m,axis\u001b[38;5;241m=\u001b[39m\u001b[38;5;241m1\u001b[39m,inplace\u001b[38;5;241m=\u001b[39m\u001b[38;5;28;01mTrue\u001b[39;00m)\n",
      "File \u001b[1;32m~\\anaconda3\\Lib\\site-packages\\pandas\\core\\frame.py:3807\u001b[0m, in \u001b[0;36mDataFrame.__getitem__\u001b[1;34m(self, key)\u001b[0m\n\u001b[0;32m   3805\u001b[0m \u001b[38;5;28;01mif\u001b[39;00m \u001b[38;5;28mself\u001b[39m\u001b[38;5;241m.\u001b[39mcolumns\u001b[38;5;241m.\u001b[39mnlevels \u001b[38;5;241m>\u001b[39m \u001b[38;5;241m1\u001b[39m:\n\u001b[0;32m   3806\u001b[0m     \u001b[38;5;28;01mreturn\u001b[39;00m \u001b[38;5;28mself\u001b[39m\u001b[38;5;241m.\u001b[39m_getitem_multilevel(key)\n\u001b[1;32m-> 3807\u001b[0m indexer \u001b[38;5;241m=\u001b[39m \u001b[38;5;28mself\u001b[39m\u001b[38;5;241m.\u001b[39mcolumns\u001b[38;5;241m.\u001b[39mget_loc(key)\n\u001b[0;32m   3808\u001b[0m \u001b[38;5;28;01mif\u001b[39;00m is_integer(indexer):\n\u001b[0;32m   3809\u001b[0m     indexer \u001b[38;5;241m=\u001b[39m [indexer]\n",
      "File \u001b[1;32m~\\anaconda3\\Lib\\site-packages\\pandas\\core\\indexes\\base.py:3804\u001b[0m, in \u001b[0;36mIndex.get_loc\u001b[1;34m(self, key, method, tolerance)\u001b[0m\n\u001b[0;32m   3802\u001b[0m     \u001b[38;5;28;01mreturn\u001b[39;00m \u001b[38;5;28mself\u001b[39m\u001b[38;5;241m.\u001b[39m_engine\u001b[38;5;241m.\u001b[39mget_loc(casted_key)\n\u001b[0;32m   3803\u001b[0m \u001b[38;5;28;01mexcept\u001b[39;00m \u001b[38;5;167;01mKeyError\u001b[39;00m \u001b[38;5;28;01mas\u001b[39;00m err:\n\u001b[1;32m-> 3804\u001b[0m     \u001b[38;5;28;01mraise\u001b[39;00m \u001b[38;5;167;01mKeyError\u001b[39;00m(key) \u001b[38;5;28;01mfrom\u001b[39;00m \u001b[38;5;21;01merr\u001b[39;00m\n\u001b[0;32m   3805\u001b[0m \u001b[38;5;28;01mexcept\u001b[39;00m \u001b[38;5;167;01mTypeError\u001b[39;00m:\n\u001b[0;32m   3806\u001b[0m     \u001b[38;5;66;03m# If we have a listlike key, _check_indexing_error will raise\u001b[39;00m\n\u001b[0;32m   3807\u001b[0m     \u001b[38;5;66;03m#  InvalidIndexError. Otherwise we fall through and re-raise\u001b[39;00m\n\u001b[0;32m   3808\u001b[0m     \u001b[38;5;66;03m#  the TypeError.\u001b[39;00m\n\u001b[0;32m   3809\u001b[0m     \u001b[38;5;28mself\u001b[39m\u001b[38;5;241m.\u001b[39m_check_indexing_error(key)\n",
      "\u001b[1;31mKeyError\u001b[0m: 'camera'"
     ]
    }
   ],
   "source": [
    "df[\"camera\"].isnull().sum()\n",
    "# there are almost 983 null values\n",
    "df.drop(\"camera\",axis=1,inplace=True)"
   ]
  },
  {
   "cell_type": "markdown",
   "id": "7d6ebca6",
   "metadata": {},
   "source": [
    "## others"
   ]
  },
  {
   "cell_type": "code",
   "execution_count": 548,
   "id": "5bbef582",
   "metadata": {},
   "outputs": [],
   "source": [
    "temp_df=df.copy()"
   ]
  },
  {
   "cell_type": "code",
   "execution_count": 549,
   "id": "a022992e",
   "metadata": {},
   "outputs": [],
   "source": [
    "temp_df[\"others\"]=temp_df[\"others\"].str.split(\",\")"
   ]
  },
  {
   "cell_type": "code",
   "execution_count": 551,
   "id": "1acfccee",
   "metadata": {},
   "outputs": [],
   "source": [
    "temp_df[\"others\"].fillna(\"False\",inplace=True)"
   ]
  },
  {
   "cell_type": "code",
   "execution_count": 560,
   "id": "0c021dd3",
   "metadata": {},
   "outputs": [],
   "source": [
    "col1=[]\n",
    "col2=[]\n",
    "col3=[]\n",
    "for i in temp_df[\"others\"]:\n",
    "    if i is not False:\n",
    "        if len(i)==3:\n",
    "            col1.append(i[0])\n",
    "            col2.append(i[1])\n",
    "            col3.append(i[2])\n",
    "        elif len(i)==2:\n",
    "            col1.append(i[0])\n",
    "            col2.append(i[1])\n",
    "            col3.append(np.nan)\n",
    "        elif len(i)==1:\n",
    "            col1.append(i[0])\n",
    "            col2.append(np.nan)\n",
    "            col3.append(np.nan)\n",
    "        else:\n",
    "            col1.append(np.nan)\n",
    "            col2.append(np.nan)\n",
    "            col3.append(np.nan)\n",
    "    else:\n",
    "        col1.append(np.nan)\n",
    "        col2.append(np.nan)\n",
    "        col3.append(np.nan)\n",
    "\n",
    "temp_df[\"col11\"]=col1\n",
    "temp_df[\"col21\"]=col2\n",
    "temp_df[\"col31\"]=col3\n",
    "\n",
    "            "
   ]
  },
  {
   "cell_type": "code",
   "execution_count": 566,
   "id": "6fdbfd40",
   "metadata": {},
   "outputs": [],
   "source": [
    "temp_df[\"col11\"].fillna(\"False\",inplace=True)\n",
    "temp_df[\"col21\"].fillna(\"False\",inplace=True)\n",
    "temp_df[\"col31\"].fillna(\"False\",inplace=True)"
   ]
  },
  {
   "cell_type": "code",
   "execution_count": 570,
   "id": "e5a011e6",
   "metadata": {
    "scrolled": true
   },
   "outputs": [],
   "source": [
    "a=temp_df[temp_df[\"col11\"].str.contains(\"Backlit\")]\n",
    "b=temp_df[temp_df[\"col21\"].str.contains(\"Backlit\")]\n",
    "c=temp_df[temp_df[\"col31\"].str.contains(\"Backlit\")]\n",
    "temp_df[\"backlit\"]=a[\"col11\"]\n",
    "temp_df.loc[b.index,\"backlit\"]=b[\"col21\"]\n",
    "temp_df.loc[c.index,\"backlit\"]=c[\"col31\"]"
   ]
  },
  {
   "cell_type": "code",
   "execution_count": 571,
   "id": "bcab2e4c",
   "metadata": {},
   "outputs": [],
   "source": [
    "a=temp_df[temp_df[\"col11\"].str.contains(\"Sensor\")]\n",
    "b=temp_df[temp_df[\"col21\"].str.contains(\"Sensor\")]\n",
    "c=temp_df[temp_df[\"col31\"].str.contains(\"Sensor\")]\n",
    "temp_df[\"fingerprint_sensor\"]=a[\"col11\"]\n",
    "temp_df.loc[b.index,\"fingerprint_sensor\"]=b[\"col21\"]\n",
    "temp_df.loc[c.index,\"fingerprint_sensor\"]=c[\"col31\"]"
   ]
  },
  {
   "cell_type": "code",
   "execution_count": 572,
   "id": "610f7b02",
   "metadata": {},
   "outputs": [],
   "source": [
    "a=temp_df[temp_df[\"col11\"].str.contains(\"Inbuilt\")]\n",
    "b=temp_df[temp_df[\"col21\"].str.contains(\"Inbuilt\")]\n",
    "c=temp_df[temp_df[\"col31\"].str.contains(\"Inbuilt\")]\n",
    "temp_df[\"inbuilt_microphone\"]=a[\"col11\"]\n",
    "temp_df.loc[b.index,\"inbuilt_microphone\"]=b[\"col21\"]\n",
    "temp_df.loc[c.index,\"inbuilt_microphone\"]=c[\"col31\"]"
   ]
  },
  {
   "cell_type": "code",
   "execution_count": 576,
   "id": "19593697",
   "metadata": {},
   "outputs": [],
   "source": [
    "df=temp_df"
   ]
  },
  {
   "cell_type": "code",
   "execution_count": 607,
   "id": "6e2232f5",
   "metadata": {},
   "outputs": [
    {
     "data": {
      "text/plain": [
       "Index(['price', 'Brand', 'num_votes', 'Ratings', 'utility', 'thickness',\n",
       "       'weight', 'warranty', 'screen_size', 'resolution', 'ppi', 'processor',\n",
       "       'threads', 'graphic_card', 'ram', 'hard_disk', 'battery1', 'hdmi',\n",
       "       'usb', 'others', 'antiglare1', 'aspect_ratio1', 'touch_screen1',\n",
       "       'battery', 'cores', 'cores1', 'threads1', 'battery_capacity',\n",
       "       'battery_cell', 'hdmi1', 'ethernet', 'multi_card_reader', 'thunderbolt',\n",
       "       'display_port', 'vga', 'usb2', 'typec', 'backlit', 'fingerprint_sensor',\n",
       "       'inbuilt_microphone', 'usb3'],\n",
       "      dtype='object')"
      ]
     },
     "execution_count": 607,
     "metadata": {},
     "output_type": "execute_result"
    }
   ],
   "source": [
    "df.columns"
   ]
  },
  {
   "cell_type": "code",
   "execution_count": 590,
   "id": "70bff179",
   "metadata": {},
   "outputs": [],
   "source": [
    "df.drop([\"col1\",\"col2\",\"col3\",\"col4\",\"col5\",\"usb_2\",\"usb_3\",\"type_c\",\"col11\",\"col21\",\"col31\"],axis=1,inplace=True)"
   ]
  },
  {
   "cell_type": "code",
   "execution_count": 608,
   "id": "cbd8a66a",
   "metadata": {},
   "outputs": [],
   "source": [
    "df.drop([\"battery1\",\"battery\",\"hdmi\",\"others\",\"usb\",\"usb2\",\"usb3\",\"typec\"],axis=1,inplace=True)"
   ]
  },
  {
   "cell_type": "code",
   "execution_count": 670,
   "id": "c1e27b7f",
   "metadata": {},
   "outputs": [],
   "source": [
    "df.drop([\"usb\",\"cores\",\"threads1\"],axis=1,inplace=True)"
   ]
  },
  {
   "cell_type": "code",
   "execution_count": 668,
   "id": "86ae9c9a",
   "metadata": {},
   "outputs": [],
   "source": [
    "# one value is different in aspect_ratio1 so we replace it with np.nan.\n",
    "df[\"aspect_ratio1\"] = np.where(df[\"aspect_ratio1\"] == \"250 nits, 141 ppi, Color Gamut: 45%NTSC Aspect Ratio\", np.nan, df[\"aspect_ratio1\"])    "
   ]
  },
  {
   "cell_type": "code",
   "execution_count": 779,
   "id": "dccd2b4f",
   "metadata": {
    "scrolled": true
   },
   "outputs": [
    {
     "data": {
      "text/plain": [
       "Index(['price', 'Brand', 'num_votes', 'Ratings', 'utility', 'thickness',\n",
       "       'weight', 'warranty', 'screen_size', 'resolution', 'ppi', 'threads',\n",
       "       'graphic_card', 'ram', 'hard_disk', 'antiglare1', 'aspect_ratio1',\n",
       "       'touch_screen1', 'cores1', 'battery_capacity', 'battery_cell', 'hdmi1',\n",
       "       'ethernet', 'multi_card_reader', 'thunderbolt', 'display_port', 'vga',\n",
       "       'backlit', 'fingerprint_sensor', 'inbuilt_microphone', 'usb2', 'usb3',\n",
       "       'typec', 'processor_gen', 'processor_brand', 'processor_model',\n",
       "       'graphics_brand', 'graphics_capacity', 'graphics_model'],\n",
       "      dtype='object')"
      ]
     },
     "execution_count": 779,
     "metadata": {},
     "output_type": "execute_result"
    }
   ],
   "source": [
    "df.columns"
   ]
  },
  {
   "cell_type": "markdown",
   "id": "f0751fce",
   "metadata": {},
   "source": [
    "## Processor"
   ]
  },
  {
   "cell_type": "code",
   "execution_count": 681,
   "id": "19ba3f85",
   "metadata": {},
   "outputs": [],
   "source": [
    "temp_df=df.copy()"
   ]
  },
  {
   "cell_type": "code",
   "execution_count": 726,
   "id": "6dffdac2",
   "metadata": {},
   "outputs": [],
   "source": [
    "# There is one column in which wrong brand is given\n",
    "temp_df[\"processor\"].replace(\"AMD Core i3 N305\",\"Intel Core i3 N305\",inplace=True)"
   ]
  },
  {
   "cell_type": "code",
   "execution_count": 728,
   "id": "81727b28",
   "metadata": {},
   "outputs": [],
   "source": [
    "# Here i make a processor brand column and store all the processor_brands in it.\n",
    "list1=[]\n",
    "for i in temp_df[\"processor\"]:\n",
    "    if \"Intel\" in i or \"intel\" in i:\n",
    "        list1.append(\"intel\")\n",
    "    elif \"AMD\" in i or \"Amd\" in i:\n",
    "        list1.append(\"amd\")\n",
    "    elif \"Apple\" in i:\n",
    "        list1.append(\"apple\")\n",
    "    elif \"MediaTek\" in i:\n",
    "        list1.append(\"mediatek\")\n",
    "    else:\n",
    "        list1.append(np.nan)\n",
    "temp_df[\"processor_brand\"]=list1"
   ]
  },
  {
   "cell_type": "code",
   "execution_count": 739,
   "id": "4f4a9690",
   "metadata": {},
   "outputs": [],
   "source": [
    "# Here i make a processor_gen column and store all the generation in it.\n",
    "list1=[]\n",
    "for i in temp_df[\"processor\"]:\n",
    "    if \"13th\" in i:\n",
    "        list1.append(\"13\")\n",
    "    elif \"12th\" in i:\n",
    "        list1.append(\"12\")\n",
    "    elif \"11th\" in i:\n",
    "        list1.append(\"11\")\n",
    "    elif \"10th\" in i:\n",
    "        list1.append(\"10\")\n",
    "    elif \"9th\" in i:\n",
    "        list1.append(\"9\")\n",
    "    elif \"8th\" in i:\n",
    "        list1.append(\"8\")\n",
    "    elif \"7th\" in i:\n",
    "        list1.append(\"7\")\n",
    "    elif \"6th\" in i:\n",
    "        list1.append(\"6\")\n",
    "    elif \"5th\" in i:\n",
    "        list1.append(\"5\")\n",
    "    elif \"4th\" in i:\n",
    "        list1.append(\"4\")\n",
    "    elif \"3rd\" in i:\n",
    "        list1.append(\"3\")\n",
    "    else:\n",
    "        list1.append(np.nan)\n",
    "temp_df[\"processor_gen\"]=list1"
   ]
  },
  {
   "cell_type": "code",
   "execution_count": 740,
   "id": "ca857b05",
   "metadata": {},
   "outputs": [],
   "source": [
    "# Here i make a processor_model column and store all the processor model in it.\n",
    "list1=[]\n",
    "for i in temp_df[\"processor\"]:\n",
    "    if \"i5\" in i:\n",
    "        list1.append(\"i5\")\n",
    "    elif \"i3\" in i:\n",
    "        list1.append(\"i3\")\n",
    "    elif \"i7\" in i:\n",
    "        list1.append(\"i7\")\n",
    "    elif \"i9\" in i:\n",
    "        list1.append(\"i9\")\n",
    "    elif \"M1\" in i:\n",
    "        list1.append(\"M1\")\n",
    "    elif \"M2\" in i:\n",
    "        list1.append(\"M2\")\n",
    "    elif \"3\" in i:\n",
    "        list1.append(\"3\")\n",
    "    elif \"5\" in i:\n",
    "        list1.append(\"5\")\n",
    "    elif \"7\" in i or \"Ryzen 7040\":\n",
    "        list1.append(\"7\")\n",
    "    elif \"9\" in i:\n",
    "        list1.append(\"9\")\n",
    "    elif \"Athlon\" in i:\n",
    "        list1.append(\"athlon\")\n",
    "    elif \"Celeron\" in i:\n",
    "        list1.append(\"celeron\")\n",
    "    elif \"Pentium\" in i:\n",
    "        list1.append(\"pentium\")\n",
    "    else:\n",
    "        list1.append(np.nan)\n",
    "temp_df[\"processor_model\"]=list1"
   ]
  },
  {
   "cell_type": "code",
   "execution_count": 741,
   "id": "4191ace8",
   "metadata": {},
   "outputs": [],
   "source": [
    "df=temp_df"
   ]
  },
  {
   "cell_type": "code",
   "execution_count": 743,
   "id": "1a91bb3c",
   "metadata": {},
   "outputs": [],
   "source": [
    "df.drop(\"processor\",axis=1,inplace=True)"
   ]
  },
  {
   "cell_type": "markdown",
   "id": "ffffa704",
   "metadata": {},
   "source": [
    "## Graphic Card"
   ]
  },
  {
   "cell_type": "code",
   "execution_count": 752,
   "id": "7da9b5df",
   "metadata": {},
   "outputs": [],
   "source": [
    "df[\"graphic_card\"].isnull().sum()\n",
    "temp_df=df.copy()"
   ]
  },
  {
   "cell_type": "code",
   "execution_count": 757,
   "id": "2ad19648",
   "metadata": {},
   "outputs": [],
   "source": [
    "list1=[]\n",
    "for i in temp_df[\"graphic_card\"]:\n",
    "    if \"Intel\" in i or \"Iris\" in i or \"UHD\" in i:\n",
    "        list1.append(\"intel\")\n",
    "    elif \"NVIDIA\" in i or \"Nvidia\" in i or \"Geforce\" in i:\n",
    "        list1.append(\"nvidia\")\n",
    "    elif \"AMD\" in i or \"Radeon\" in i :\n",
    "        list1.append(\"amd\")\n",
    "    elif \"ARM\" in i:\n",
    "        list1.append(\"arm\")\n",
    "    elif \"Apple\" in i or \"8 Core\" in i or \"10 Core\" in i or \"16 Core\" in i or \"38 Core\" in i or \"8-Core\" in i or \"10-Core\" in i or \"16-core\" in i or \"38-core\" in i:\n",
    "        list1.append(\"apple\")\n",
    "    else:\n",
    "        list1.append(np.nan)\n",
    "temp_df[\"graphics_brand\"]=list1\n",
    "        "
   ]
  },
  {
   "cell_type": "code",
   "execution_count": 1058,
   "id": "8ba21186",
   "metadata": {},
   "outputs": [],
   "source": [
    "temp_df[\"graphics_capacity\"]=temp_df[\"graphic_card\"].str.split().str.get(0).str.strip()"
   ]
  },
  {
   "cell_type": "code",
   "execution_count": 1069,
   "id": "17dc058e",
   "metadata": {},
   "outputs": [],
   "source": [
    "temp_df[\"graphics_capacity\"]=temp_df[\"graphics_capacity\"].apply(lambda x: x if x in ['2','4','6','8','10','12','16'] else np.nan)"
   ]
  },
  {
   "cell_type": "code",
   "execution_count": 1070,
   "id": "eb76abfa",
   "metadata": {},
   "outputs": [],
   "source": [
    "df[\"graphics_capacity\"]=temp_df[\"graphics_capacity\"]"
   ]
  },
  {
   "cell_type": "code",
   "execution_count": 766,
   "id": "2a3a0160",
   "metadata": {},
   "outputs": [],
   "source": [
    "list1=[]\n",
    "for i in temp_df[\"graphic_card\"]:\n",
    "    if \"RTX 2050\" in i or \"RTX2050\" in i:\n",
    "        list1.append(\"rtx2050\")\n",
    "    elif \"RTX 2060\" in i or \"RTX2060\" in i:\n",
    "        list1.append(\"rtx2060\")\n",
    "    elif \"RTX 3050\" in i or \"RTX3050\" in i:\n",
    "        list1.append(\"rtx3050\")\n",
    "    elif \"RTX 3060\" in i or \"RTX3060\" in i:\n",
    "        list1.append(\"rtx3060\")\n",
    "    elif \"RTX 4050\" in i or \"RTX4050\" in i:\n",
    "        list1.append(\"rtx4050\")\n",
    "    elif \"RTX 4060\" in i or \"RTX4060\" in i:\n",
    "        list1.append(\"rtx4060\")\n",
    "    elif \"RTX 4070\" in i or \"RTX4070\" in i:\n",
    "        list1.append(\"rtx4070\")\n",
    "    elif \"RTX 4080\" in i or \"RTX4080\" in i:\n",
    "        list1.append(\"rtx4080\")\n",
    "    elif \"RTX 4090\" in i or \"RTX4090\" in i:\n",
    "        list1.append(\"rtx4090\")\n",
    "    elif \"RTX 3070 Ti\" in i or \"RTX3070 Ti\" in i:\n",
    "        list1.append(\"rtx3070ti\")\n",
    "    elif \"RTX 3060 Ti\" in i or \"RTX3060 Ti\" in i:\n",
    "        list1.append(\"rtx3060ti\")\n",
    "    elif \"RTX 3080 Ti\" in i or \"RTX3080 Ti\" in i:\n",
    "        list1.append(\"rtx3080ti\")\n",
    "    elif \"GTX 1650\" in i or \"GTX1650\" in i:\n",
    "        list1.append(\"gtx1650\")\n",
    "    elif \"GTX 2050\" in i or \"GTX 2050\" in i:\n",
    "        list1.append(\"gtx2050\")\n",
    "    elif \"T500\" in i or \"T 500\" in i:\n",
    "        list1.append(\"t500\")\n",
    "    elif \"T 550\" in i or \"T550\" in i:\n",
    "        list1.append(\"t550\")\n",
    "    elif \"T 600\" in i or \"T600\" in i:\n",
    "        list1.append(\"t600\")\n",
    "    elif \"MX130\" in i or \"MX 130\" in i:\n",
    "        list1.append(\"mx130\")\n",
    "    elif \"MX450\" in i or \"MX 450\" in i:\n",
    "        list1.append(\"mx450\")\n",
    "    elif \"MX 550\" in i or \"MX550\" in i:\n",
    "        list1.append(\"mx550\")\n",
    "    elif \"MX 570\" in i or \"MX570\" in i:\n",
    "        list1.append(\"mx570\")\n",
    "    elif \"RX 5500M\" in i or \"RX5500M\" in i:\n",
    "        list1.append(\"rx5500m\")\n",
    "    elif \"RX 5600M\" in i or \"RX5600M\" in i:\n",
    "        list1.append(\"rx5600m\")\n",
    "    elif \"RX 6500M\" in i or \"RX6500M\" in i:\n",
    "        list1.append(\"rx6500m\")\n",
    "    elif \"RX 7600S\" in i or \"RX7600S\" in i:\n",
    "        list1.append(\"rx7600s\")\n",
    "    else:\n",
    "        list1.append(\"Integrated\")\n",
    "    \n",
    "temp_df[\"graphics_model\"]=list1\n",
    "        "
   ]
  },
  {
   "cell_type": "code",
   "execution_count": 768,
   "id": "24e092f9",
   "metadata": {},
   "outputs": [],
   "source": [
    "df=temp_df"
   ]
  },
  {
   "cell_type": "markdown",
   "id": "a41aef79",
   "metadata": {},
   "source": [
    "**Now we eliminate any other issues related to columns**"
   ]
  },
  {
   "cell_type": "markdown",
   "id": "3925a8fc",
   "metadata": {},
   "source": [
    "**Price**"
   ]
  },
  {
   "cell_type": "code",
   "execution_count": 777,
   "id": "790a13f2",
   "metadata": {
    "collapsed": true
   },
   "outputs": [
    {
     "name": "stdout",
     "output_type": "stream",
     "text": [
      "0\n",
      "<class 'pandas.core.series.Series'>\n",
      "RangeIndex: 1020 entries, 0 to 1019\n",
      "Series name: price\n",
      "Non-Null Count  Dtype\n",
      "--------------  -----\n",
      "1020 non-null   int64\n",
      "dtypes: int64(1)\n",
      "memory usage: 8.1 KB\n",
      "None\n",
      "59990     20\n",
      "69990     18\n",
      "94990     17\n",
      "44990     17\n",
      "36990     15\n",
      "54990     15\n",
      "49990     15\n",
      "62990     15\n",
      "63990     14\n",
      "109990    14\n",
      "52990     14\n",
      "58990     14\n",
      "79990     14\n",
      "34990     13\n",
      "67990     12\n",
      "57990     12\n",
      "64990     11\n",
      "89990     10\n",
      "23990     10\n",
      "47990     10\n",
      "35990     10\n",
      "48990     10\n",
      "74990      9\n",
      "60990      9\n",
      "37990      9\n",
      "76990      8\n",
      "42990      8\n",
      "51990      8\n",
      "72990      8\n",
      "32990      8\n",
      "56990      8\n",
      "99990      8\n",
      "114990     7\n",
      "73990      7\n",
      "38990      7\n",
      "53990      7\n",
      "29990      7\n",
      "45990      7\n",
      "84990      7\n",
      "61990      6\n",
      "30990      6\n",
      "40990      6\n",
      "39990      6\n",
      "82990      6\n",
      "87990      6\n",
      "199990     6\n",
      "27990      6\n",
      "129990     6\n",
      "86990      5\n",
      "16990      5\n",
      "88990      5\n",
      "65990      5\n",
      "100990     5\n",
      "85990      5\n",
      "41990      5\n",
      "43990      5\n",
      "66990      5\n",
      "138990     4\n",
      "87490      4\n",
      "41490      4\n",
      "134990     4\n",
      "75990      4\n",
      "50990      4\n",
      "25990      4\n",
      "55990      4\n",
      "18990      4\n",
      "144990     4\n",
      "28990      4\n",
      "80990      4\n",
      "46990      3\n",
      "49490      3\n",
      "179990     3\n",
      "119990     3\n",
      "64999      3\n",
      "84490      3\n",
      "77990      3\n",
      "92990      3\n",
      "149990     3\n",
      "31990      3\n",
      "96990      3\n",
      "89999      3\n",
      "11990      3\n",
      "71990      3\n",
      "20990      3\n",
      "115990     3\n",
      "26990      3\n",
      "23490      3\n",
      "231746     2\n",
      "277278     2\n",
      "116463     2\n",
      "117574     2\n",
      "205000     2\n",
      "279990     2\n",
      "142990     2\n",
      "189990     2\n",
      "84980      2\n",
      "103990     2\n",
      "51999      2\n",
      "72999      2\n",
      "47490      2\n",
      "133990     2\n",
      "36490      2\n",
      "15990      2\n",
      "103000     2\n",
      "63500      2\n",
      "47750      2\n",
      "113990     2\n",
      "95790      2\n",
      "74000      2\n",
      "89799      2\n",
      "176108     2\n",
      "128599     2\n",
      "68990      2\n",
      "146990     2\n",
      "58850      2\n",
      "76889      2\n",
      "51147      2\n",
      "92490      2\n",
      "78299      2\n",
      "93490      2\n",
      "45499      2\n",
      "46700      2\n",
      "27490      2\n",
      "111990     2\n",
      "130800     2\n",
      "88680      2\n",
      "133000     2\n",
      "80490      2\n",
      "59500      2\n",
      "171990     2\n",
      "115592     2\n",
      "137456     2\n",
      "139990     2\n",
      "174990     2\n",
      "152499     2\n",
      "25490      2\n",
      "128699     2\n",
      "390914     2\n",
      "157544     2\n",
      "119888     2\n",
      "169175     2\n",
      "256990     2\n",
      "279490     2\n",
      "303490     2\n",
      "453490     2\n",
      "339990     2\n",
      "189999     2\n",
      "110990     2\n",
      "446390     2\n",
      "66500      2\n",
      "81900      2\n",
      "127790     2\n",
      "272709     2\n",
      "79490      2\n",
      "91990      2\n",
      "12989      2\n",
      "75999      2\n",
      "24990      2\n",
      "56490      2\n",
      "108000     2\n",
      "308990     2\n",
      "126990     2\n",
      "83990      2\n",
      "104990     2\n",
      "159990     2\n",
      "70990      2\n",
      "22980      1\n",
      "36850      1\n",
      "68490      1\n",
      "35980      1\n",
      "201990     1\n",
      "286200     1\n",
      "53981      1\n",
      "53999      1\n",
      "37516      1\n",
      "71960      1\n",
      "148990     1\n",
      "38490      1\n",
      "80980      1\n",
      "40890      1\n",
      "31499      1\n",
      "208990     1\n",
      "67190      1\n",
      "55999      1\n",
      "37650      1\n",
      "61601      1\n",
      "164990     1\n",
      "50749      1\n",
      "136990     1\n",
      "33990      1\n",
      "177990     1\n",
      "109999     1\n",
      "19990      1\n",
      "90000      1\n",
      "87680      1\n",
      "40500      1\n",
      "65500      1\n",
      "44927      1\n",
      "107767     1\n",
      "38390      1\n",
      "58299      1\n",
      "70500      1\n",
      "51487      1\n",
      "184999     1\n",
      "44090      1\n",
      "33999      1\n",
      "47741      1\n",
      "97989      1\n",
      "13990      1\n",
      "93050      1\n",
      "62750      1\n",
      "84499      1\n",
      "42999      1\n",
      "20890      1\n",
      "61000      1\n",
      "58989      1\n",
      "62290      1\n",
      "304990     1\n",
      "56600      1\n",
      "124199     1\n",
      "60210      1\n",
      "169990     1\n",
      "70490      1\n",
      "40810      1\n",
      "122990     1\n",
      "220490     1\n",
      "185990     1\n",
      "184990     1\n",
      "105990     1\n",
      "132199     1\n",
      "234990     1\n",
      "77490      1\n",
      "367590     1\n",
      "379990     1\n",
      "79745      1\n",
      "124990     1\n",
      "125990     1\n",
      "314490     1\n",
      "194990     1\n",
      "160990     1\n",
      "77390      1\n",
      "272900     1\n",
      "62390      1\n",
      "130990     1\n",
      "70680      1\n",
      "45250      1\n",
      "119900     1\n",
      "45999      1\n",
      "63890      1\n",
      "209990     1\n",
      "175900     1\n",
      "93990      1\n",
      "127000     1\n",
      "73889      1\n",
      "67999      1\n",
      "173990     1\n",
      "163790     1\n",
      "29490      1\n",
      "38889      1\n",
      "76490      1\n",
      "66499      1\n",
      "72450      1\n",
      "81989      1\n",
      "247999     1\n",
      "43750      1\n",
      "143690     1\n",
      "35418      1\n",
      "107399     1\n",
      "149490     1\n",
      "115490     1\n",
      "117990     1\n",
      "88480      1\n",
      "110000     1\n",
      "197990     1\n",
      "61999      1\n",
      "225960     1\n",
      "92221      1\n",
      "266990     1\n",
      "102990     1\n",
      "239761     1\n",
      "34499      1\n",
      "28490      1\n",
      "63700      1\n",
      "90990      1\n",
      "78652      1\n",
      "64800      1\n",
      "86800      1\n",
      "130000     1\n",
      "33400      1\n",
      "65439      1\n",
      "69000      1\n",
      "84844      1\n",
      "199900     1\n",
      "12990      1\n",
      "79000      1\n",
      "44600      1\n",
      "190721     1\n",
      "34000      1\n",
      "163990     1\n",
      "281990     1\n",
      "154990     1\n",
      "116990     1\n",
      "249990     1\n",
      "429990     1\n",
      "45790      1\n",
      "39399      1\n",
      "24551      1\n",
      "69450      1\n",
      "66389      1\n",
      "65290      1\n",
      "91999      1\n",
      "58366      1\n",
      "51149      1\n",
      "43700      1\n",
      "103060     1\n",
      "62790      1\n",
      "45989      1\n",
      "49999      1\n",
      "65999      1\n",
      "52128      1\n",
      "22990      1\n",
      "67536      1\n",
      "201498     1\n",
      "90464      1\n",
      "84999      1\n",
      "43890      1\n",
      "49800      1\n",
      "74999      1\n",
      "415000     1\n",
      "71590      1\n",
      "90440      1\n",
      "52850      1\n",
      "56690      1\n",
      "46199      1\n",
      "111490     1\n",
      "60490      1\n",
      "98990      1\n",
      "84000      1\n",
      "66290      1\n",
      "56000      1\n",
      "55350      1\n",
      "22490      1\n",
      "323290     1\n",
      "71989      1\n",
      "131254     1\n",
      "48999      1\n",
      "302990     1\n",
      "98999      1\n",
      "126800     1\n",
      "131684     1\n",
      "125900     1\n",
      "56340      1\n",
      "113612     1\n",
      "108625     1\n",
      "399999     1\n",
      "233498     1\n",
      "44690      1\n",
      "230593     1\n",
      "30790      1\n",
      "278712     1\n",
      "25999      1\n",
      "322490     1\n",
      "118990     1\n",
      "569990     1\n",
      "52290      1\n",
      "85889      1\n",
      "211199     1\n",
      "59519      1\n",
      "69900      1\n",
      "131990     1\n",
      "38890      1\n",
      "66150      1\n",
      "292990     1\n",
      "153625     1\n",
      "56999      1\n",
      "172990     1\n",
      "78990      1\n",
      "108274     1\n",
      "32999      1\n",
      "101990     1\n",
      "66999      1\n",
      "165601     1\n",
      "33900      1\n",
      "186592     1\n",
      "91490      1\n",
      "97990      1\n",
      "354490     1\n",
      "143000     1\n",
      "344990     1\n",
      "44550      1\n",
      "72799      1\n",
      "96490      1\n",
      "89500      1\n",
      "40900      1\n",
      "112990     1\n",
      "Name: price, dtype: int64\n",
      "count      1020.000000\n",
      "mean      86099.358824\n",
      "std       67157.600006\n",
      "min       11990.000000\n",
      "25%       47990.000000\n",
      "50%       66074.500000\n",
      "75%       95790.000000\n",
      "max      569990.000000\n",
      "Name: price, dtype: float64\n"
     ]
    }
   ],
   "source": [
    "print(df[\"price\"].isnull().sum())\n",
    "print(df[\"price\"].info())\n",
    "print(df[\"price\"].value_counts())\n",
    "print(df[\"price\"].describe())"
   ]
  },
  {
   "cell_type": "markdown",
   "id": "376ea18d",
   "metadata": {},
   "source": [
    "**Brand**"
   ]
  },
  {
   "cell_type": "code",
   "execution_count": 778,
   "id": "9c306069",
   "metadata": {
    "collapsed": true
   },
   "outputs": [
    {
     "name": "stdout",
     "output_type": "stream",
     "text": [
      "0\n",
      "<class 'pandas.core.series.Series'>\n",
      "RangeIndex: 1020 entries, 0 to 1019\n",
      "Series name: Brand\n",
      "Non-Null Count  Dtype \n",
      "--------------  ----- \n",
      "1020 non-null   object\n",
      "dtypes: object(1)\n",
      "memory usage: 8.1+ KB\n",
      "None\n",
      "Asus         201\n",
      "HP           193\n",
      "Lenovo       187\n",
      "MSI          121\n",
      "Dell         103\n",
      "Acer          94\n",
      "Infinix       22\n",
      "LG            17\n",
      "Samsung       12\n",
      "Gigabyte      12\n",
      "Apple         10\n",
      "Fujitsu        9\n",
      "Honor          6\n",
      "Wings          6\n",
      "Xiaomi         5\n",
      "Ultimus        3\n",
      "AXL            3\n",
      "Avita          2\n",
      "Razer          2\n",
      "Huawei         2\n",
      "Chuwi          2\n",
      "Realme         2\n",
      "Primebook      2\n",
      "Vaio           1\n",
      "Ninkear        1\n",
      "ASUS           1\n",
      "Walker         1\n",
      "Name: Brand, dtype: int64\n",
      "count     1020\n",
      "unique      27\n",
      "top       Asus\n",
      "freq       201\n",
      "Name: Brand, dtype: object\n"
     ]
    }
   ],
   "source": [
    "print(df[\"Brand\"].isnull().sum())\n",
    "print(df[\"Brand\"].info())\n",
    "print(df[\"Brand\"].value_counts())\n",
    "print(df[\"Brand\"].describe())"
   ]
  },
  {
   "cell_type": "markdown",
   "id": "14d2e01e",
   "metadata": {},
   "source": [
    "**Number of Votes**"
   ]
  },
  {
   "cell_type": "code",
   "execution_count": 780,
   "id": "1a751712",
   "metadata": {
    "collapsed": true
   },
   "outputs": [
    {
     "name": "stdout",
     "output_type": "stream",
     "text": [
      "0\n",
      "<class 'pandas.core.series.Series'>\n",
      "RangeIndex: 1020 entries, 0 to 1019\n",
      "Series name: num_votes\n",
      "Non-Null Count  Dtype \n",
      "--------------  ----- \n",
      "1020 non-null   object\n",
      "dtypes: object(1)\n",
      "memory usage: 8.1+ KB\n",
      "None\n",
      "91       25\n",
      "106      22\n",
      "83       21\n",
      "110      21\n",
      "69       20\n",
      "94       19\n",
      "58       19\n",
      "85       18\n",
      "89       18\n",
      "74       18\n",
      "111      17\n",
      "101      17\n",
      "99       17\n",
      "56       16\n",
      "81       16\n",
      "103      15\n",
      "70       15\n",
      "107      15\n",
      "73       14\n",
      "90       14\n",
      "109      14\n",
      "77       13\n",
      "72       13\n",
      "55       13\n",
      "67       13\n",
      "76       13\n",
      "80       12\n",
      "66       12\n",
      "59       12\n",
      "68       12\n",
      "60       12\n",
      "65       12\n",
      "105      11\n",
      "51       11\n",
      "86       11\n",
      "71       11\n",
      "100      11\n",
      "87       11\n",
      "53       11\n",
      "96       10\n",
      "75       10\n",
      "54       10\n",
      "97       10\n",
      "104      10\n",
      "95        9\n",
      "82        9\n",
      "52        9\n",
      "63        9\n",
      "57        9\n",
      "84        8\n",
      "78        7\n",
      "64        7\n",
      "79        7\n",
      "93        7\n",
      "61        6\n",
      "92        6\n",
      "112       6\n",
      "116       6\n",
      "108       6\n",
      "88        6\n",
      "98        5\n",
      "62        5\n",
      "115       5\n",
      "124       4\n",
      "140       4\n",
      "123       4\n",
      "102       4\n",
      "127       4\n",
      "113       4\n",
      "118       4\n",
      "121       3\n",
      "182       3\n",
      "677       3\n",
      "328       3\n",
      "135       3\n",
      "143       3\n",
      "172       3\n",
      "119       3\n",
      "4046      3\n",
      "154       3\n",
      "853       2\n",
      "673       2\n",
      "4833      2\n",
      "159       2\n",
      "783       2\n",
      "214       2\n",
      "396       2\n",
      "125       2\n",
      "406       2\n",
      "258       2\n",
      "465       2\n",
      "131       2\n",
      "458       2\n",
      "166       2\n",
      "219       2\n",
      "316       2\n",
      "132       2\n",
      "230       2\n",
      "156       2\n",
      "183       2\n",
      "540       2\n",
      "196       2\n",
      "578       2\n",
      "134       2\n",
      "126       2\n",
      "341       2\n",
      "129       2\n",
      "204       2\n",
      "165       2\n",
      "356       2\n",
      "1170      2\n",
      "122       2\n",
      "117       2\n",
      "659       1\n",
      "145       1\n",
      "239       1\n",
      "623       1\n",
      "1209      1\n",
      "632       1\n",
      "764       1\n",
      "255       1\n",
      "136       1\n",
      "1596      1\n",
      "1012      1\n",
      "2235      1\n",
      "200       1\n",
      "526       1\n",
      "130       1\n",
      "374       1\n",
      "296       1\n",
      "161       1\n",
      "1463      1\n",
      "2964      1\n",
      "410       1\n",
      "148       1\n",
      "979       1\n",
      "3129      1\n",
      "777       1\n",
      "13399     1\n",
      "150       1\n",
      "1047      1\n",
      "232       1\n",
      "184       1\n",
      "475       1\n",
      "276       1\n",
      "314       1\n",
      "176       1\n",
      "517       1\n",
      "329       1\n",
      "278       1\n",
      "231       1\n",
      "2447      1\n",
      "294       1\n",
      "1918      1\n",
      "6907      1\n",
      "782       1\n",
      "334       1\n",
      "189       1\n",
      "217       1\n",
      "213       1\n",
      "114       1\n",
      "1118      1\n",
      "188       1\n",
      "12724     1\n",
      "566       1\n",
      "1086      1\n",
      "3050      1\n",
      "1375      1\n",
      "478       1\n",
      "149       1\n",
      "1043      1\n",
      "2073      1\n",
      "141       1\n",
      "1153      1\n",
      "246       1\n",
      "423       1\n",
      "1632      1\n",
      "439       1\n",
      "251       1\n",
      "1923      1\n",
      "750       1\n",
      "504       1\n",
      "221       1\n",
      "151       1\n",
      "705       1\n",
      "713       1\n",
      "442       1\n",
      "153       1\n",
      "162       1\n",
      "392       1\n",
      "768       1\n",
      "703       1\n",
      "14846     1\n",
      "332       1\n",
      "250       1\n",
      "233       1\n",
      "169       1\n",
      "263       1\n",
      "335       1\n",
      "1624      1\n",
      "349       1\n",
      "236       1\n",
      "163       1\n",
      "421       1\n",
      "671       1\n",
      "2591      1\n",
      "2315      1\n",
      "266       1\n",
      "321       1\n",
      "265       1\n",
      "133       1\n",
      "1076      1\n",
      "727       1\n",
      "666       1\n",
      "1336      1\n",
      "1075      1\n",
      "243       1\n",
      "347       1\n",
      "339       1\n",
      "2650      1\n",
      "898       1\n",
      "1271      1\n",
      "431       1\n",
      "694       1\n",
      "667       1\n",
      "2193      1\n",
      "355       1\n",
      "194       1\n",
      "375       1\n",
      "600       1\n",
      "537       1\n",
      "190       1\n",
      "823       1\n",
      "14917     1\n",
      "227       1\n",
      "387       1\n",
      "193       1\n",
      "171       1\n",
      "884       1\n",
      "432       1\n",
      "1944      1\n",
      "205       1\n",
      "Name: num_votes, dtype: int64\n",
      "count     1020\n",
      "unique     242\n",
      "top         91\n",
      "freq        25\n",
      "Name: num_votes, dtype: object\n"
     ]
    }
   ],
   "source": [
    "print(df[\"num_votes\"].isnull().sum())\n",
    "print(df[\"num_votes\"].info())\n",
    "print(df[\"num_votes\"].value_counts())\n",
    "print(df[\"num_votes\"].describe())"
   ]
  },
  {
   "cell_type": "markdown",
   "id": "abc45e14",
   "metadata": {},
   "source": [
    "**Rating**"
   ]
  },
  {
   "cell_type": "code",
   "execution_count": 781,
   "id": "7b3cfbb8",
   "metadata": {
    "collapsed": true
   },
   "outputs": [
    {
     "name": "stdout",
     "output_type": "stream",
     "text": [
      "0\n",
      "<class 'pandas.core.series.Series'>\n",
      "RangeIndex: 1020 entries, 0 to 1019\n",
      "Series name: Ratings\n",
      "Non-Null Count  Dtype  \n",
      "--------------  -----  \n",
      "1020 non-null   float64\n",
      "dtypes: float64(1)\n",
      "memory usage: 8.1 KB\n",
      "None\n",
      "4.30    93\n",
      "4.10    85\n",
      "4.20    85\n",
      "4.15    74\n",
      "4.40    72\n",
      "4.25    65\n",
      "4.60    60\n",
      "4.50    56\n",
      "4.35    56\n",
      "4.75    56\n",
      "4.00    55\n",
      "4.55    51\n",
      "4.70    49\n",
      "4.05    49\n",
      "4.45    45\n",
      "4.65    44\n",
      "3.95    12\n",
      "3.85     3\n",
      "3.90     3\n",
      "3.70     2\n",
      "3.65     2\n",
      "3.55     1\n",
      "3.75     1\n",
      "3.80     1\n",
      "Name: Ratings, dtype: int64\n",
      "count    1020.000000\n",
      "mean        4.338480\n",
      "std         0.232508\n",
      "min         3.550000\n",
      "25%         4.150000\n",
      "50%         4.300000\n",
      "75%         4.550000\n",
      "max         4.750000\n",
      "Name: Ratings, dtype: float64\n"
     ]
    }
   ],
   "source": [
    "print(df[\"Ratings\"].isnull().sum())\n",
    "print(df[\"Ratings\"].info())\n",
    "print(df[\"Ratings\"].value_counts())\n",
    "print(df[\"Ratings\"].describe())"
   ]
  },
  {
   "cell_type": "markdown",
   "id": "6fec1137",
   "metadata": {},
   "source": [
    "**Utility**"
   ]
  },
  {
   "cell_type": "code",
   "execution_count": 783,
   "id": "01b76960",
   "metadata": {
    "collapsed": true
   },
   "outputs": [
    {
     "name": "stdout",
     "output_type": "stream",
     "text": [
      "8\n",
      "<class 'pandas.core.series.Series'>\n",
      "RangeIndex: 1020 entries, 0 to 1019\n",
      "Series name: utility\n",
      "Non-Null Count  Dtype \n",
      "--------------  ----- \n",
      "1012 non-null   object\n",
      "dtypes: object(1)\n",
      "memory usage: 8.1+ KB\n",
      "None\n",
      "Utility: Performance                                    429\n",
      "Utility: Gaming                                         175\n",
      "Utility: Everyday Use                                   143\n",
      "Utility: Business, Performance                           68\n",
      "Utility: Everyday Use, Business, Performance             47\n",
      "Utility: Gaming, Performance                             40\n",
      "Utility: Everyday Use, Performance                       32\n",
      "Utility: Performance, Business                           17\n",
      "Utility: Performance, Everyday Use                       11\n",
      "Utility: Everyday Use, Gaming, Performance               10\n",
      "Utility: Business                                         9\n",
      "Utility: Everyday Use, Gaming                             8\n",
      "Utility: Everyday Use, Gaming, Business, Performance      8\n",
      "Utility: Everyday Use, Business, Performance, Gaming      5\n",
      "Utility: Everyday Use, Business                           4\n",
      "Utility: Gaming, Everyday Use                             3\n",
      "Utility: Everyday Use, Performance, Gaming                2\n",
      "Utility: Business, Everyday Use, Performance              1\n",
      "Name: utility, dtype: int64\n",
      "count                     1012\n",
      "unique                      18\n",
      "top       Utility: Performance\n",
      "freq                       429\n",
      "Name: utility, dtype: object\n"
     ]
    }
   ],
   "source": [
    "print(df[\"utility\"].isnull().sum())\n",
    "print(df[\"utility\"].info())\n",
    "print(df[\"utility\"].value_counts())\n",
    "print(df[\"utility\"].describe())\n",
    "#here 8 null values\n",
    "#there are four category in this column \"Performance\",\"Gaming\",\"Everyday Use\",\"Bussiness\" and remove \"utility:\""
   ]
  },
  {
   "cell_type": "code",
   "execution_count": 784,
   "id": "d19e04f7",
   "metadata": {},
   "outputs": [],
   "source": [
    "temp_df=df.copy()"
   ]
  },
  {
   "cell_type": "code",
   "execution_count": 790,
   "id": "64f1452c",
   "metadata": {},
   "outputs": [],
   "source": [
    "temp_df[\"utility\"]=temp_df[\"utility\"].str.replace(\"Utility:\",\"\").str.strip().str.split(\",\")"
   ]
  },
  {
   "cell_type": "code",
   "execution_count": 798,
   "id": "3b6a8bc8",
   "metadata": {},
   "outputs": [],
   "source": [
    "temp_df[\"utility\"].fillna(\"False\",inplace=True)"
   ]
  },
  {
   "cell_type": "code",
   "execution_count": 809,
   "id": "38572929",
   "metadata": {},
   "outputs": [],
   "source": [
    "temp_df['everyday_use'] = temp_df['utility'].apply(lambda x: 1 if 'Everyday Use' in x else 0)\n",
    "temp_df['business'] = temp_df['utility'].apply(lambda x: 1 if 'Business' in x else 0)\n",
    "temp_df['performance'] = temp_df['utility'].apply(lambda x: 1 if 'Performance' in x else 0)\n",
    "temp_df['gaming'] = temp_df['utility'].apply(lambda x: 1 if 'Gaming' in x else 0)\n",
    "        \n",
    "    "
   ]
  },
  {
   "cell_type": "code",
   "execution_count": 812,
   "id": "b7bbd106",
   "metadata": {},
   "outputs": [],
   "source": [
    "temp_df.drop(\"Everyday Use\",axis=1,inplace=True)"
   ]
  },
  {
   "cell_type": "code",
   "execution_count": 813,
   "id": "78d9ebfd",
   "metadata": {},
   "outputs": [],
   "source": [
    "df=temp_df"
   ]
  },
  {
   "cell_type": "code",
   "execution_count": 815,
   "id": "ee36517e",
   "metadata": {},
   "outputs": [],
   "source": [
    "df.drop(\"utility\",axis=1,inplace=True)"
   ]
  },
  {
   "cell_type": "markdown",
   "id": "50425531",
   "metadata": {},
   "source": [
    "**Thickness**"
   ]
  },
  {
   "cell_type": "code",
   "execution_count": 820,
   "id": "4360b5a7",
   "metadata": {
    "collapsed": true
   },
   "outputs": [
    {
     "name": "stdout",
     "output_type": "stream",
     "text": [
      "233\n",
      "<class 'pandas.core.series.Series'>\n",
      "RangeIndex: 1020 entries, 0 to 1019\n",
      "Series name: thickness\n",
      "Non-Null Count  Dtype \n",
      "--------------  ----- \n",
      "787 non-null    object\n",
      "dtypes: object(1)\n",
      "memory usage: 8.1+ KB\n",
      "None\n",
      "Thickness: 19.9 mmAverage       124\n",
      "Thickness: 17.9 mmSlim           89\n",
      "Thickness: 18.9 mmAverage        29\n",
      "Thickness: 24.9 mmThick          22\n",
      "Thickness: 23.5 mmThick          17\n",
      "Thickness: 17 mmSlim             17\n",
      "Thickness: 21.7 mmThick          16\n",
      "Thickness: 26.9 mmThick          15\n",
      "Thickness: 19 mmAverage          14\n",
      "Thickness: 18.9 mmSlim           13\n",
      "Thickness: 24.2 mmThick          12\n",
      "Thickness: 16.9 mmSlim           12\n",
      "Thickness: 18.4 mmAverage        12\n",
      "Thickness: 25.2 mmThick          11\n",
      "Thickness: 22.5 mmThick          10\n",
      "Thickness: 17.9 mmAverage         9\n",
      "Thickness: 15.9 mmSlim            9\n",
      "Thickness: 19.35 mmAverage        9\n",
      "Thickness: 24 mmThick             9\n",
      "Thickness: 19 mmSlim              8\n",
      "Thickness: 18 mmAverage           8\n",
      "Thickness: 23.9 mmThick           7\n",
      "Thickness: 20 mmAverage           7\n",
      "Thickness: 18 mmSlim              6\n",
      "Thickness: 16.8 mmSlim            6\n",
      "Thickness: 16 mmSlim              6\n",
      "Thickness: 22.3 mmThick           6\n",
      "Thickness: 24.5 mmThick           6\n",
      "Thickness: 16.95 mmSlim           6\n",
      "Thickness: 15.4 mmSlim            5\n",
      "Thickness: 17.7 mmSlim            5\n",
      "Thickness: 27.2 mmThick           5\n",
      "Thickness: 20.9 mmThick           5\n",
      "Thickness: 18.3 mmAverage         5\n",
      "Thickness: 21.6 mmThick           5\n",
      "Thickness: 2.6 mmUltra Slim       5\n",
      "Thickness: 25.9 mmThick           5\n",
      "Thickness: 20 mmThick             5\n",
      "Thickness: 16.3 mmSlim            5\n",
      "Thickness: 14.8 mmSlim            5\n",
      "Thickness: 19.5 mmAverage         5\n",
      "Thickness: 22.9 mmThick           5\n",
      "Thickness: 21.8 mmThick           4\n",
      "Thickness: 14.9 mmSlim            4\n",
      "Thickness: 25 mmThick             4\n",
      "Thickness: 18.7 mmSlim            4\n",
      "Thickness: 14.8 mmUltra Slim      4\n",
      "Thickness: 249.1 mmThick          4\n",
      "Thickness: 18.7 mmThick           4\n",
      "Thickness: 16.9 mmAverage         4\n",
      "Thickness: 15.6 mmSlim            4\n",
      "Thickness: 18.7 mmAverage         4\n",
      "Thickness: 30.4 mmThick           4\n",
      "Thickness: 20.9 mmAverage         4\n",
      "Thickness: 18.2 mmSlim            4\n",
      "Thickness: 17.8 mmSlim            4\n",
      "Thickness: 27.9 mmThick           4\n",
      "Thickness: 234.3 mmThick          4\n",
      "Thickness: 16.95 mmAverage        4\n",
      "Thickness: 23 mmThick             4\n",
      "Thickness: 19.7 mmSlim            3\n",
      "Thickness: 22.7 mmThick           3\n",
      "Thickness: 15.5 mmSlim            3\n",
      "Thickness: 15.1 mmSlim            3\n",
      "Thickness: 24.1 mmThick           3\n",
      "Thickness: 18.5 mmSlim            3\n",
      "Thickness: 19.3 mmAverage         3\n",
      "Thickness: 26 mmThick             3\n",
      "Thickness: 259 mmThickest         3\n",
      "Thickness: 22.8 mmThick           3\n",
      "Thickness: 18.6 mmAverage         3\n",
      "Thickness: 17.8 mmAverage         3\n",
      "Thickness: 19.5 mmSlim            3\n",
      "Thickness: 18.4 mmSlim            3\n",
      "Thickness: 23.3 mmThick           2\n",
      "Thickness: 16.8 mmAverage         2\n",
      "Thickness: 242 mmThickest         2\n",
      "Thickness: 259 mmThick            2\n",
      "Thickness: 22.4 mmAverage         2\n",
      "Thickness: 17.1 mmSlim            2\n",
      "Thickness: 259.4 mmThickest       2\n",
      "Thickness: 19.95 mmThick          2\n",
      "Thickness: 27.85 mmThick          2\n",
      "Thickness: 18.1 mmSlim            2\n",
      "Thickness: 21.7 mmAverage         2\n",
      "Thickness: 18.5 mmAverage         2\n",
      "Thickness: 22.1 mmThick           2\n",
      "Thickness: 28.55 mmThick          2\n",
      "Thickness: 10.9 mmSlim            2\n",
      "Thickness: 19.35 mmSlim           2\n",
      "Thickness: 22.4 mmThick           2\n",
      "Thickness: 10.9 mmUltra Slim      2\n",
      "Thickness: 1.95 mmThick           2\n",
      "Thickness: 19.3 mmThick           2\n",
      "Thickness: 17 mmAverage           2\n",
      "Thickness: 21 mmThick             2\n",
      "Thickness: 19.7 mmAverage         2\n",
      "Thickness: 21 mmAverage           2\n",
      "Thickness: 18.2 mmAverage         2\n",
      "Thickness: 24.13 mmThick          1\n",
      "Thickness: 211.1 mmThick          1\n",
      "Thickness: 18.15 mmAverage        1\n",
      "Thickness: 27 mmThick             1\n",
      "Thickness: 15.28 mmSlim           1\n",
      "Thickness: 242 mmThick            1\n",
      "Thickness: 277.33 mmThickest      1\n",
      "Thickness: 14.5 mmSlim            1\n",
      "Thickness: 18.8 mmAverage         1\n",
      "Thickness: 11.5 mmSlim            1\n",
      "Thickness: 19.8 mmSlim            1\n",
      "Thickness: 18.99 mmAverage        1\n",
      "Thickness: 12.95 mmSlim           1\n",
      "Thickness: 16.1 mmSlim            1\n",
      "Thickness: 30.8 mmThick           1\n",
      "Thickness: 24.8 mmThick           1\n",
      "Thickness: 26.8 mmThick           1\n",
      "Thickness: 14.2 mmSlim            1\n",
      "Thickness: 24.95 mmThick          1\n",
      "Thickness: 23 mmUltra Slim        1\n",
      "Thickness: 18.15 mmSlim           1\n",
      "Thickness: 23.95 mmThick          1\n",
      "Thickness: 15.54 mmSlim           1\n",
      "Thickness: 16.2 mmSlim            1\n",
      "Thickness: 240 mmThickest         1\n",
      "Thickness: 27.5 mmThick           1\n",
      "Thickness: 9 mmUltra Slim         1\n",
      "Thickness: 20.6 mmThick           1\n",
      "Thickness: 21.4 mmThick           1\n",
      "Thickness: 263.8 mmThickest       1\n",
      "Thickness: 19.5 mmThick           1\n",
      "Thickness: 12.9 mmSlim            1\n",
      "Thickness: 11.65 mmSlim           1\n",
      "Thickness: 12.8 mmSlim            1\n",
      "Thickness: 16.5 mmSlim            1\n",
      "Thickness: 20.5 mmSlim            1\n",
      "Thickness: 19.95 mmAverage        1\n",
      "Thickness: 29.45 mmThick          1\n",
      "Thickness: 18.8 mmSlim            1\n",
      "Thickness: 16.96 mmSlim           1\n",
      "Thickness: 11.3 mmSlim            1\n",
      "Thickness: 376.17 mmThickest      1\n",
      "Thickness: 13.7 mmSlim            1\n",
      "Name: thickness, dtype: int64\n",
      "count                           787\n",
      "unique                          142\n",
      "top       Thickness: 19.9 mmAverage\n",
      "freq                            124\n",
      "Name: thickness, dtype: object\n"
     ]
    }
   ],
   "source": [
    "print(df[\"thickness\"].isnull().sum())\n",
    "print(df[\"thickness\"].info())\n",
    "print(df[\"thickness\"].value_counts())\n",
    "print(df[\"thickness\"].describe())\n",
    "#233 are null values\n",
    "#remove \"Thickness:\" and keep only integer value because all values are in mm"
   ]
  },
  {
   "cell_type": "code",
   "execution_count": 821,
   "id": "b3a1acf2",
   "metadata": {},
   "outputs": [],
   "source": [
    "temp_df=df.copy()"
   ]
  },
  {
   "cell_type": "code",
   "execution_count": 824,
   "id": "f9d8816a",
   "metadata": {},
   "outputs": [],
   "source": [
    "temp_df[\"thickness\"].fillna(\"False\",inplace=True)"
   ]
  },
  {
   "cell_type": "code",
   "execution_count": 834,
   "id": "e54ec3ef",
   "metadata": {},
   "outputs": [],
   "source": [
    "temp_df[\"thickness\"]=temp_df[\"thickness\"].str.replace(\"Thickness:\",\"\").str.strip().str.split().str.get(0).str.replace(\"False\",\"0\")"
   ]
  },
  {
   "cell_type": "code",
   "execution_count": 836,
   "id": "a0d34d78",
   "metadata": {},
   "outputs": [],
   "source": [
    "df=temp_df"
   ]
  },
  {
   "cell_type": "markdown",
   "id": "a7aee224",
   "metadata": {},
   "source": [
    "**Weight**"
   ]
  },
  {
   "cell_type": "code",
   "execution_count": 844,
   "id": "38463a52",
   "metadata": {
    "collapsed": true
   },
   "outputs": [
    {
     "name": "stdout",
     "output_type": "stream",
     "text": [
      "85\n",
      "<class 'pandas.core.series.Series'>\n",
      "RangeIndex: 1020 entries, 0 to 1019\n",
      "Series name: weight\n",
      "Non-Null Count  Dtype \n",
      "--------------  ----- \n",
      "935 non-null    object\n",
      "dtypes: object(1)\n",
      "memory usage: 8.1+ KB\n",
      "None\n",
      "1.7 kgAverage      70\n",
      "1.8 kgAverage      54\n",
      "2.25 kgHeavy       45\n",
      "1.4 kgLight        36\n",
      "1.69 kgAverage     28\n",
      "1.5 kgLight        24\n",
      "1.86 kgHeavy       22\n",
      "1.8 kgHeavy        22\n",
      "1.65 kgAverage     20\n",
      "2.6 kgHeavy        19\n",
      "2.37 kgHeavy       17\n",
      "1.6 kgLight        17\n",
      "1.59 kgLight       16\n",
      "2.3 kgHeavy        15\n",
      "1.41 kgLight       15\n",
      "2.5 kgHeavy        14\n",
      "1.74 kgAverage     14\n",
      "1.46 kgLight       12\n",
      "1.3 kgLight        12\n",
      "1.78 kgHeavy       12\n",
      "1.38 kgLight       11\n",
      "2.1 kgHeavy        11\n",
      "1.63 kgAverage     11\n",
      "1.75 kgHeavy       11\n",
      "1.62 kgLight       11\n",
      "1.24 kgLight       11\n",
      "1.49 kgLight       11\n",
      "1.47 kgLight       11\n",
      "1.86 kgAverage     11\n",
      "1.6 kgAverage      10\n",
      "2.7 kgHeavy        10\n",
      "2.2 kgHeavy        10\n",
      "2.14 kgHeavy        9\n",
      "1.73 kgLight        8\n",
      "1.37 kgLight        8\n",
      "1.5 kgAverage       8\n",
      "2.32 kgHeavy        7\n",
      "1.75 kgAverage      7\n",
      "2.29 kgHeavy        7\n",
      "2.35 kgHeavy        6\n",
      "2.4 kgHeavy         6\n",
      "1.76 kgHeavy        6\n",
      "1.57 kgAverage      6\n",
      "2 kgAverage         6\n",
      "1.48 kgLight        6\n",
      "1.47 kgAverage      5\n",
      "1.35 kgLight        5\n",
      "1.59 kgAverage      5\n",
      "2.09 kgAverage      5\n",
      "2.72 kgAverage      5\n",
      "1.88 kgHeavy        4\n",
      "1.63 kgLight        4\n",
      "2.57 kgHeavy        4\n",
      "2.65 kgHeavy        4\n",
      "1.68 kgAverage      4\n",
      "1.98 kgAverage      4\n",
      "2.39 kgHeavy        4\n",
      "1.57 kgLight        4\n",
      "1.25 kgLight        4\n",
      "1.77 kgAverage      4\n",
      "1.91 kgHeavy        4\n",
      "1.55 kgLight        4\n",
      "1.53 kgAverage      4\n",
      "2.8 kgHeaviest      4\n",
      "1.39 kgLight        4\n",
      "1.29 kgLight        4\n",
      "1.19 kgLight        3\n",
      "3.23 kgHeaviest     3\n",
      "908 gLight          3\n",
      "2.2 kgAverage       3\n",
      "1.54 kgLight        3\n",
      "1 kgLight           3\n",
      "1.87 kgHeavy        3\n",
      "1.58 kgLight        3\n",
      "1.66 kgAverage      3\n",
      "2.44 kgAverage      3\n",
      "2.8 kgHeavy         3\n",
      "2.48 kgHeavy        3\n",
      "2.31 kgHeavy        3\n",
      "1.92 kgAverage      2\n",
      "2.49 kgAverage      2\n",
      "1.72 kgLight        2\n",
      "1.84 kgAverage      2\n",
      "999 gLight          2\n",
      "1.58 kgAverage      2\n",
      "2.46 kgHeavy        2\n",
      "1.89 kgHeavy        2\n",
      "2.1 kgAverage       2\n",
      "1.78 kgLight        2\n",
      "1.43 kgLight        2\n",
      "990 gLightest       2\n",
      "990 gLight          2\n",
      "1.23 kgLight        2\n",
      "1.92 kgLight        2\n",
      "2.47 kgHeavy        2\n",
      "2.87 kgHeavy        2\n",
      "1.24 kgLightest     2\n",
      "1.65 kgLight        2\n",
      "1.56 kgLight        2\n",
      "1.99 kgAverage      2\n",
      "2.67 kgHeavy        2\n",
      "1.88 kgLight        2\n",
      "998 gLight          2\n",
      "1.9 kgAverage       2\n",
      "1.32 kgLight        2\n",
      "1.47 kgHeaviest     2\n",
      "2.08 kgAverage      2\n",
      "1.2 kgAverage       2\n",
      "868 gLight          2\n",
      "878 gLightest       2\n",
      "1.24 kgHeavy        2\n",
      "1.79 kgLight        1\n",
      "1.85 kgHeavy        1\n",
      "1.16 kgLight        1\n",
      "1.9 kgHeavy         1\n",
      "2.49 kgHeavy        1\n",
      "2.11 kgAverage      1\n",
      "1.66 kgLight        1\n",
      "3 kgHeaviest        1\n",
      "1.83 kgHeavy        1\n",
      "1.2 kgLightest      1\n",
      "1.18 kgLight        1\n",
      "3.25 kgHeaviest     1\n",
      "2.34 kgAverage      1\n",
      "2.67 kgAverage      1\n",
      "1.82 kgHeavy        1\n",
      "2.51 kgHeavy        1\n",
      "3.86 kgHeavy        1\n",
      "2.22 kgHeavy        1\n",
      "2.16 kgLight        1\n",
      "1.3 kgHeavy         1\n",
      "1.91 kgAverage      1\n",
      "2.26 kgHeavy        1\n",
      "3 kgAverage         1\n",
      "1.64 kgAverage      1\n",
      "3.3 kgLightest      1\n",
      "1.63 kgHeavy        1\n",
      "2.08 kgHeavy        1\n",
      "1.51 kgAverage      1\n",
      "1.74 kgHeavy        1\n",
      "1.45 kgLight        1\n",
      "1.2 kgHeavy         1\n",
      "1.62 kgLightest     1\n",
      "2.77 kgHeavy        1\n",
      "1.21 kgLight        1\n",
      "1.77 kgHeavy        1\n",
      "794 gLightest       1\n",
      "1.98 kgHeavy        1\n",
      "1.85 kgAverage      1\n",
      "1.78 kgAverage      1\n",
      "2.72 kgHeavy        1\n",
      "Name: weight, dtype: int64\n",
      "count               935\n",
      "unique              151\n",
      "top       1.7 kgAverage\n",
      "freq                 70\n",
      "Name: weight, dtype: object\n"
     ]
    }
   ],
   "source": [
    "print(df[\"weight\"].isnull().sum())\n",
    "print(df[\"weight\"].info())\n",
    "print(df[\"weight\"].value_counts())\n",
    "print(df[\"weight\"].describe())\n",
    "#here 85 null values\n",
    "#remove everything except float value, convert type as float, some values are in gram"
   ]
  },
  {
   "cell_type": "code",
   "execution_count": 840,
   "id": "6499745c",
   "metadata": {},
   "outputs": [],
   "source": [
    "temp_df=df.copy()"
   ]
  },
  {
   "cell_type": "code",
   "execution_count": 871,
   "id": "2f56b223",
   "metadata": {
    "scrolled": true
   },
   "outputs": [],
   "source": [
    "temp_df[\"weight\"]=temp_df[\"weight\"].str.split().str.get(0).str.strip().astype(\"float\")"
   ]
  },
  {
   "cell_type": "code",
   "execution_count": 878,
   "id": "4df3aa3c",
   "metadata": {},
   "outputs": [],
   "source": [
    "temp_df[\"weight\"]=temp_df[\"weight\"].apply(lambda x: x if x<10 else x/1000)"
   ]
  },
  {
   "cell_type": "code",
   "execution_count": 879,
   "id": "f292c537",
   "metadata": {},
   "outputs": [],
   "source": [
    "df=temp_df"
   ]
  },
  {
   "cell_type": "markdown",
   "id": "5d916c96",
   "metadata": {},
   "source": [
    "**Warranty**"
   ]
  },
  {
   "cell_type": "code",
   "execution_count": 885,
   "id": "2fce8bb9",
   "metadata": {},
   "outputs": [
    {
     "name": "stdout",
     "output_type": "stream",
     "text": [
      "5\n",
      "<class 'pandas.core.series.Series'>\n",
      "RangeIndex: 1020 entries, 0 to 1019\n",
      "Series name: warranty\n",
      "Non-Null Count  Dtype \n",
      "--------------  ----- \n",
      "1015 non-null   object\n",
      "dtypes: object(1)\n",
      "memory usage: 8.1+ KB\n",
      "None\n",
      "1 Year Warranty    890\n",
      "2 Year Warranty    113\n",
      "3 Year Warranty     12\n",
      "Name: warranty, dtype: int64\n",
      "count                1015\n",
      "unique                  3\n",
      "top       1 Year Warranty\n",
      "freq                  890\n",
      "Name: warranty, dtype: object\n"
     ]
    }
   ],
   "source": [
    "print(df[\"warranty\"].isnull().sum())\n",
    "print(df[\"warranty\"].info())\n",
    "print(df[\"warranty\"].value_counts())\n",
    "print(df[\"warranty\"].describe())\n",
    "#here 5 null values\n",
    "#remove everything except int value and convert it to integer column"
   ]
  },
  {
   "cell_type": "code",
   "execution_count": 889,
   "id": "5cba0667",
   "metadata": {},
   "outputs": [],
   "source": [
    "df[\"warranty\"]=df[\"warranty\"].str.split().str.get(0)"
   ]
  },
  {
   "cell_type": "code",
   "execution_count": 901,
   "id": "a1607f47",
   "metadata": {},
   "outputs": [],
   "source": [
    "df[\"warranty\"]=df[\"warranty\"].astype(\"float\")"
   ]
  },
  {
   "cell_type": "markdown",
   "id": "b56b9dda",
   "metadata": {},
   "source": [
    "**screen size**"
   ]
  },
  {
   "cell_type": "code",
   "execution_count": 892,
   "id": "4d29153b",
   "metadata": {
    "collapsed": true
   },
   "outputs": [
    {
     "name": "stdout",
     "output_type": "stream",
     "text": [
      "0\n",
      "<class 'pandas.core.series.Series'>\n",
      "RangeIndex: 1020 entries, 0 to 1019\n",
      "Series name: screen_size\n",
      "Non-Null Count  Dtype \n",
      "--------------  ----- \n",
      "1020 non-null   object\n",
      "dtypes: object(1)\n",
      "memory usage: 8.1+ KB\n",
      "None\n",
      "15.6 inchesAverage     308\n",
      "15.6 inchesLarge       175\n",
      "14 inchesSmall         149\n",
      "14 inchesAverage       106\n",
      "16 inchesLarge          79\n",
      "16 inchesAverage        45\n",
      "15.6 inchesLargest      31\n",
      "13.3 inchesSmall        26\n",
      "16.1 inchesLarge        22\n",
      "17.3 inchesLarge        10\n",
      "17.3 inchesLargest      10\n",
      "16 inchesLargest         7\n",
      "17 inchesLarge           5\n",
      "15.6 inchesSmall         5\n",
      "17 inchesAverage         5\n",
      "13.4 inchesSmall         4\n",
      "11.6 inchesLarge         3\n",
      "14.1 inchesAverage       3\n",
      "18 inchesLargest         3\n",
      "16 inchesSmallest        3\n",
      "11.6 inchesSmallest      3\n",
      "14.1 inchesLargest       3\n",
      "14.5 inchesAverage       2\n",
      "11.6 inchesSmall         2\n",
      "13.5 inchesSmall         2\n",
      "14.2 inchesSmall         2\n",
      "13 inchesSmallest        1\n",
      "14.1 inchesLarge         1\n",
      "13.6 inchesSmall         1\n",
      "16.2 inchesAverage       1\n",
      "15.56 inchesSmall        1\n",
      "15.3 inchesAverage       1\n",
      "15 inchesAverage         1\n",
      "Name: screen_size, dtype: int64\n",
      "count                   1020\n",
      "unique                    33\n",
      "top       15.6 inchesAverage\n",
      "freq                     308\n",
      "Name: screen_size, dtype: object\n"
     ]
    }
   ],
   "source": [
    "print(df[\"screen_size\"].isnull().sum())\n",
    "print(df[\"screen_size\"].info())\n",
    "print(df[\"screen_size\"].value_counts())\n",
    "print(df[\"screen_size\"].describe())\n",
    "#keep only integer value and convert this column to integer"
   ]
  },
  {
   "cell_type": "code",
   "execution_count": 902,
   "id": "f61a7050",
   "metadata": {},
   "outputs": [],
   "source": [
    "df[\"screen_size\"]=df[\"screen_size\"].str.split().str.get(0).astype(\"float\")"
   ]
  },
  {
   "cell_type": "markdown",
   "id": "5cccbf60",
   "metadata": {},
   "source": [
    "**Resolution**"
   ]
  },
  {
   "cell_type": "code",
   "execution_count": 1075,
   "id": "ad10a519",
   "metadata": {
    "scrolled": true
   },
   "outputs": [
    {
     "name": "stdout",
     "output_type": "stream",
     "text": [
      "2\n",
      "<class 'pandas.core.series.Series'>\n",
      "RangeIndex: 1020 entries, 0 to 1019\n",
      "Series name: resolution\n",
      "Non-Null Count  Dtype \n",
      "--------------  ----- \n",
      "1018 non-null   object\n",
      "dtypes: object(1)\n",
      "memory usage: 8.1+ KB\n",
      "None\n",
      "1920 x 1080 pixelsAverage    625\n",
      "1920 x 1200 pixelsGood        97\n",
      "2560 x 1600 pixelsAverage     38\n",
      "1920 x 1200 pixelsAverage     30\n",
      "2880 x 1800 pixelsGood        27\n",
      "1366 x 768 pixelsAverage      24\n",
      "1366 x 768 pixelsBad          20\n",
      "2560 x 1600 pixelsGood        19\n",
      "3840 x 2400 pixelsBest        17\n",
      "1920 x 1080 pixelsBad         14\n",
      "1920 x 1080 pixelsBest         9\n",
      "1600 x 2560 pixelsAverage      8\n",
      "2560 x 1440 pixelsGood         8\n",
      "1080 x 1920 pixelsAverage      7\n",
      "3200 x 1800 pixelsAverage      7\n",
      "2880 x 1620 pixelsGood         7\n",
      "1920 x 1200 pixelsPoor         6\n",
      "3200 x 2000 pixelsGood         6\n",
      "2560 x 1440 pixelsAverage      5\n",
      "1366 x 768 pixelsPoor          4\n",
      "1600 x 2560 pixelsGood         3\n",
      "1366 x 768 pixelsGood          3\n",
      "1200 x 1920 pixelsAverage      2\n",
      "3456 x 2160 pixelsAverage      2\n",
      "1920 x 1280 pixelsPoor         2\n",
      "3072 x 1920 pixelsGood         2\n",
      "3456 x 2160 pixelsGood         2\n",
      "2240 x 1400 pixelsGood         2\n",
      "3840 x 2160 pixelsGood         2\n",
      "1200 x 1920 pixelsGood         2\n",
      "3200 x 2000 pixelsBest         2\n",
      "2160 x 1440 pixelsGood         1\n",
      "2560 x 1664 pixelsGood         1\n",
      "2520 x 1680 pixelsGood         1\n",
      "2560 x 1440 pixelsPoor         1\n",
      "2880 x 1864 pixelsGood         1\n",
      "3840 x 2160 pixelsBest         1\n",
      "3456 x 2234 pixelsAverage      1\n",
      "1440 x 2160 pixelsBest         1\n",
      "3024 x 1964 pixelsGood         1\n",
      "3840 x 2400 pixelsGood         1\n",
      "3200 x 2000 pixelsAverage      1\n",
      "1920 x 1200 pixelsBest         1\n",
      "1920 x 2560 pixelsPoor         1\n",
      "3480 x 2160 pixelsGood         1\n",
      "2560 x 1660 pixelsGood         1\n",
      "3120 x 2080 pixelsGood         1\n",
      "Name: resolution, dtype: int64\n",
      "count                          1018\n",
      "unique                           47\n",
      "top       1920 x 1080 pixelsAverage\n",
      "freq                            625\n",
      "Name: resolution, dtype: object\n"
     ]
    }
   ],
   "source": [
    "print(df[\"resolution\"].isnull().sum())\n",
    "print(df[\"resolution\"].info())\n",
    "print(df[\"resolution\"].value_counts())\n",
    "print(df[\"resolution\"].describe())\n",
    "#2 null values\n",
    "#make two columns \"screen_width\" and \"screen_height\" and store respective values"
   ]
  },
  {
   "cell_type": "code",
   "execution_count": 1081,
   "id": "a5b612ab",
   "metadata": {},
   "outputs": [],
   "source": [
    "df[\"resolution_width\"]=df[\"resolution\"].str.split().str.get(0).str.strip().astype(\"float\")\n",
    "df[\"resolution_height\"]=df[\"resolution\"].str.split().str.get(2).str.strip().astype(\"float\")"
   ]
  },
  {
   "cell_type": "code",
   "execution_count": 1082,
   "id": "3eb79d76",
   "metadata": {},
   "outputs": [],
   "source": [
    "df.drop(\"resolution\",axis=1,inplace=True)"
   ]
  },
  {
   "cell_type": "markdown",
   "id": "27025ecf",
   "metadata": {},
   "source": [
    "**PPI**"
   ]
  },
  {
   "cell_type": "code",
   "execution_count": 910,
   "id": "cc026d65",
   "metadata": {
    "collapsed": true
   },
   "outputs": [
    {
     "name": "stdout",
     "output_type": "stream",
     "text": [
      "0\n",
      "<class 'pandas.core.series.Series'>\n",
      "RangeIndex: 1020 entries, 0 to 1019\n",
      "Series name: ppi\n",
      "Non-Null Count  Dtype \n",
      "--------------  ----- \n",
      "1020 non-null   object\n",
      "dtypes: object(1)\n",
      "memory usage: 8.1+ KB\n",
      "None\n",
      "~ 141 PPIAverage    448\n",
      "~ 157 PPIHigh       103\n",
      "~ 142 PPIAverage     43\n",
      "~ 162 PPIHigh        35\n",
      "~ 157 PPIAverage     29\n",
      "~ 243 PPIHigh        22\n",
      "~ 137 PPILow         21\n",
      "~ 283 PPIHigh        19\n",
      "~ 112 PPILow         18\n",
      "~ 141 PPILow         15\n",
      "~ 189 PPIAverage     14\n",
      "~ 170 PPIHigh        12\n",
      "~ 216 PPIHigh        12\n",
      "~ 189 PPIHigh        11\n",
      "~ 227 PPIHigh        11\n",
      "~ 162 PPIAverage     10\n",
      "~ 127 PPILow         10\n",
      "~ 283 PPIHighest     10\n",
      "~ 112 PPIAverage      9\n",
      "~ 100 PPILowest       9\n",
      "~ 182 PPIAverage      8\n",
      "~ 147 PPIHigh         8\n",
      "~ 255 PPIHigh         7\n",
      "~ 184 PPIHigh         7\n",
      "~ 212 PPIHigh         7\n",
      "~ 135 PPIAverage      7\n",
      "~ 100 PPILow          6\n",
      "~ 140 PPILow          5\n",
      "~ 138 PPILow          5\n",
      "~ 229 PPIAverage      4\n",
      "~ 290 PPIHigh         4\n",
      "~ 236 PPIHigh         4\n",
      "~ 166 PPIHigh         4\n",
      "~ 142 PPILow          4\n",
      "~ 156 PPIHighest      4\n",
      "~ 204 PPIAverage      3\n",
      "~ 266 PPIHigh         3\n",
      "~ 178 PPIAverage      3\n",
      "~ 141 PPIHigh         3\n",
      "~ 156 PPIHigh         3\n",
      "~ 182 PPIHigh         3\n",
      "~ 135 PPILow          3\n",
      "~ 135 PPIHigh         3\n",
      "~ 188 PPIHigh         2\n",
      "~ 127 PPILowest       2\n",
      "~ 145 PPILow          2\n",
      "~ 112 PPILowest       2\n",
      "~ 215 PPIHigh         2\n",
      "~ 250 PPIHigh         2\n",
      "~ 224 PPIHigh         2\n",
      "~ 188 PPIAverage      2\n",
      "~ 166 PPILow          2\n",
      "~ 216 PPIAverage      2\n",
      "~ 242 PPIHigh         2\n",
      "~ 147 PPILow          2\n",
      "~ 225 PPIHigh         2\n",
      "~ 134 PPILow          1\n",
      "~ 164 PPILow          1\n",
      "~ 178 PPILow          1\n",
      "~ 170 PPILow          1\n",
      "~ 264 PPIHigh         1\n",
      "~ 186 PPIHigh         1\n",
      "~ 142 PPIHigh         1\n",
      "~ 280 PPIHighest      1\n",
      "~ 147 PPIAverage      1\n",
      "~ 280 PPIHigh         1\n",
      "~ 184 PPIAverage      1\n",
      "~ 236 PPIAverage      1\n",
      "~ 323 PPIHigh         1\n",
      "~ 185 PPIHigh         1\n",
      "~ 157 PPILow          1\n",
      "~ 166 PPIAverage      1\n",
      "~ 254 PPIAverage      1\n",
      "~ 254 PPIHigh         1\n",
      "~ 191 PPIHigh         1\n",
      "~ 169 PPIHigh         1\n",
      "~ 226 PPIHigh         1\n",
      "~ 255 PPIHighest      1\n",
      "~ 263 PPIHigh         1\n",
      "~ 188 PPILow          1\n",
      "~ 194 PPIAverage      1\n",
      "Name: ppi, dtype: int64\n",
      "count                 1020\n",
      "unique                  81\n",
      "top       ~ 141 PPIAverage\n",
      "freq                   448\n",
      "Name: ppi, dtype: object\n"
     ]
    }
   ],
   "source": [
    "print(df[\"ppi\"].isnull().sum())\n",
    "print(df[\"ppi\"].info())\n",
    "print(df[\"ppi\"].value_counts())\n",
    "print(df[\"ppi\"].describe())"
   ]
  },
  {
   "cell_type": "code",
   "execution_count": 914,
   "id": "4f21de2f",
   "metadata": {},
   "outputs": [],
   "source": [
    "df[\"ppi\"]=df[\"ppi\"].str.split().str.get(1)"
   ]
  },
  {
   "cell_type": "code",
   "execution_count": 918,
   "id": "859f95c5",
   "metadata": {},
   "outputs": [],
   "source": [
    "df[\"ppi\"]=df[\"ppi\"].astype(\"int\")"
   ]
  },
  {
   "cell_type": "markdown",
   "id": "747c31a2",
   "metadata": {},
   "source": [
    "**Threads**"
   ]
  },
  {
   "cell_type": "code",
   "execution_count": 932,
   "id": "dd0a213e",
   "metadata": {
    "collapsed": true
   },
   "outputs": [
    {
     "name": "stdout",
     "output_type": "stream",
     "text": [
      "22\n",
      "<class 'pandas.core.series.Series'>\n",
      "RangeIndex: 1020 entries, 0 to 1019\n",
      "Series name: threads\n",
      "Non-Null Count  Dtype  \n",
      "--------------  -----  \n",
      "998 non-null    float64\n",
      "dtypes: float64(1)\n",
      "memory usage: 8.1 KB\n",
      "None\n",
      "12.0    352\n",
      "16.0    255\n",
      "8.0     190\n",
      "20.0     72\n",
      "4.0      60\n",
      "2.0      36\n",
      "32.0     16\n",
      "24.0     14\n",
      "6.0       3\n",
      "Name: threads, dtype: int64\n",
      "count    998.000000\n",
      "mean      12.466934\n",
      "std        5.249484\n",
      "min        2.000000\n",
      "25%        8.000000\n",
      "50%       12.000000\n",
      "75%       16.000000\n",
      "max       32.000000\n",
      "Name: threads, dtype: float64\n"
     ]
    }
   ],
   "source": [
    "print(df[\"threads\"].isnull().sum())\n",
    "print(df[\"threads\"].info())\n",
    "print(df[\"threads\"].value_counts())\n",
    "print(df[\"threads\"].describe())"
   ]
  },
  {
   "cell_type": "code",
   "execution_count": 921,
   "id": "6ba71d24",
   "metadata": {},
   "outputs": [],
   "source": [
    "df[\"threads\"]=df[\"threads\"].str.split().str.get(0).str.strip()"
   ]
  },
  {
   "cell_type": "code",
   "execution_count": 926,
   "id": "16f45c60",
   "metadata": {},
   "outputs": [],
   "source": [
    "df[\"threads\"]=df[\"threads\"].astype(\"float\")"
   ]
  },
  {
   "cell_type": "code",
   "execution_count": 928,
   "id": "942bcb97",
   "metadata": {},
   "outputs": [],
   "source": [
    "df.drop(\"graphic_card\",axis=1,inplace=True)"
   ]
  },
  {
   "cell_type": "markdown",
   "id": "f602d46f",
   "metadata": {},
   "source": [
    "**RAM**"
   ]
  },
  {
   "cell_type": "code",
   "execution_count": 933,
   "id": "605d177e",
   "metadata": {
    "collapsed": true
   },
   "outputs": [
    {
     "name": "stdout",
     "output_type": "stream",
     "text": [
      "0\n",
      "<class 'pandas.core.series.Series'>\n",
      "RangeIndex: 1020 entries, 0 to 1019\n",
      "Series name: ram\n",
      "Non-Null Count  Dtype \n",
      "--------------  ----- \n",
      "1020 non-null   object\n",
      "dtypes: object(1)\n",
      "memory usage: 8.1+ KB\n",
      "None\n",
      "8 GB DDR4 RAMAverage               226\n",
      "16 GB DDR4 RAMAverage              163\n",
      "16 GB DDR5 RAMAverage              110\n",
      "16 GB DDR4 RAMLargest               84\n",
      "16 GB LPDDR5 RAMAverage             63\n",
      "8 GB LPDDR5 RAMAverage              36\n",
      "32 GB DDR5 RAMLargest               33\n",
      "16 GB DDR5 RAMLargest               22\n",
      "16 GB LPDDR5 RAMLargest             20\n",
      "8 GB DDR4 RAMLargest                20\n",
      "16 GB DDR4 RAMLarge                 17\n",
      "8 GB DDR5 RAMAverage                16\n",
      "8 GB DDR5 RAMSmallest               15\n",
      "16 GB LPDDR4X RAMLargest            13\n",
      "16 GB LPDDR5  RAMAverage            13\n",
      "8 GB DDR4 RAMSmallest                9\n",
      "32 GB DDR5 RAMAverage                8\n",
      "8 GB DDR4  RAMAverage                8\n",
      "16 GB  LPDDR5 RAMAverage             8\n",
      "8 GB RAMAverage                      7\n",
      "8 GB LPDDR4X RAMLargest              7\n",
      "8 GB LPDDR4 RAMAverage               6\n",
      "8 GB LPDDR5 RAMSmallest              6\n",
      "16 GB LPDDR4x RAMAverage             5\n",
      "32 GB LPDDR5 RAMLargest              5\n",
      "4 GB LPDDR4X RAMLargest              5\n",
      "4 GB DDR4 RAMAverage                 5\n",
      "16 GB LPDDR5 RAMLarge                5\n",
      "4 GB DDR4 RAMLargest                 5\n",
      "32 GB LPDDR5 RAMAverage              4\n",
      "16 GB LPDDR4X RAMAverage             4\n",
      "4 GB LPDDR4X RAMAverage              4\n",
      "8 GB LPDDR4X RAMAverage              4\n",
      "16 GB  LPDDR5 RAMLargest             4\n",
      "32 GB LPDDR5X RAMLargest             3\n",
      "16 GB LPDDR4 RAMLargest              3\n",
      "8 GB RAMSmallest                     3\n",
      "16 GB LPDDR5X RAMLargest             3\n",
      "16 GB RAMAverage                     3\n",
      "16 GB DDR4  RAMAverage               3\n",
      "4 GB LPDDR4 RAMLarge                 3\n",
      "64 GB DDR5 RAMLargest                3\n",
      "64 GB LPDDR5 RAMLargest              2\n",
      "16 GB LPDDR4X RAMLarge               2\n",
      "8 GB DDR4 RAMSmall                   2\n",
      "8 GB LPDDR5  RAMAverage              2\n",
      "4 GB DDR4  RAMAverage                2\n",
      "16 GB LPDDR5  RAMLargest             1\n",
      "16 GB DDR4  RAMLarge                 1\n",
      "8 GB DDR5 SDRAM RAMSmall             1\n",
      "16 GB RAMLarge                       1\n",
      "16 GB DDR RAMLargest                 1\n",
      "16 GB DDR5 RAMSmallest               1\n",
      "16 GB LPDDR4 RAMAverage              1\n",
      "8 GB  LPDDR5 RAMAverage              1\n",
      "8 GB LPDDR5 RAMLargest               1\n",
      "32 GB DDR4 RAMLargest                1\n",
      "16 GB DDR4- RAMAverage               1\n",
      "8 GB LPDDR4x RAMSmallest             1\n",
      "16 GB LPDDR5 RAMSmallest             1\n",
      "12 GB DDR4 RAMLarge                  1\n",
      "32 GB DDR4 RAMLarge                  1\n",
      "16 GB DDR5 SDRAM RAMAverage          1\n",
      "16 GB Unified Memory RAMAverage      1\n",
      "4 GB LPDDR4 RAMLargest               1\n",
      "8 GB LPDDR4 RAMLargest               1\n",
      "16 GB LPDDR4x RAMLargest             1\n",
      "16 GB RAMLargest                     1\n",
      "16 GB DDR5  RAMAverage               1\n",
      "8 GB LPDDR4x  RAMAverage             1\n",
      "32 GB Unified Memory RAMAverage      1\n",
      "4 GB DDR4 RAMSmall                   1\n",
      "16 GB DDR4  RAMLargest               1\n",
      "Name: ram, dtype: int64\n",
      "count                     1020\n",
      "unique                      73\n",
      "top       8 GB DDR4 RAMAverage\n",
      "freq                       226\n",
      "Name: ram, dtype: object\n"
     ]
    }
   ],
   "source": [
    "print(df[\"ram\"].isnull().sum())\n",
    "print(df[\"ram\"].info())\n",
    "print(df[\"ram\"].value_counts())\n",
    "print(df[\"ram\"].describe())"
   ]
  },
  {
   "cell_type": "code",
   "execution_count": 938,
   "id": "142ddd38",
   "metadata": {},
   "outputs": [],
   "source": [
    "df[\"ram\"]=df[\"ram\"].str.split().str.get(0).astype(\"int\")"
   ]
  },
  {
   "cell_type": "markdown",
   "id": "28630aaa",
   "metadata": {},
   "source": [
    "**Hard-Disk**"
   ]
  },
  {
   "cell_type": "code",
   "execution_count": 1167,
   "id": "a82429d9",
   "metadata": {
    "collapsed": true
   },
   "outputs": [
    {
     "name": "stdout",
     "output_type": "stream",
     "text": [
      "0\n",
      "<class 'pandas.core.series.Series'>\n",
      "RangeIndex: 1020 entries, 0 to 1019\n",
      "Series name: hard_disk\n",
      "Non-Null Count  Dtype \n",
      "--------------  ----- \n",
      "1020 non-null   object\n",
      "dtypes: object(1)\n",
      "memory usage: 8.1+ KB\n",
      "None\n",
      "512 GB SSD                           727\n",
      "1 TB SSD                             200\n",
      "256 GB SSD                            47\n",
      "2 TB SSD                              13\n",
      "1 TB HARD Disk, 256 GB SSDAverage     11\n",
      "64 GB SSD                              6\n",
      "128 GB SSD                             5\n",
      "64 GB HARD DiskLarge                   3\n",
      "1 TB HARD Disk, 512 GB SSDSmall        3\n",
      "1 TB HARD DiskLargest                  1\n",
      "4 TB SSD                               1\n",
      "128 GB HARD DiskLargest                1\n",
      "32 GB HARD DiskSmallest                1\n",
      "1 TB HARD DiskAverage                  1\n",
      "Name: hard_disk, dtype: int64\n",
      "count           1020\n",
      "unique            14\n",
      "top       512 GB SSD\n",
      "freq             727\n",
      "Name: hard_disk, dtype: object\n"
     ]
    }
   ],
   "source": [
    "print(df[\"hard_disk\"].isnull().sum())\n",
    "print(df[\"hard_disk\"].info())\n",
    "print(df[\"hard_disk\"].value_counts())\n",
    "print(df[\"hard_disk\"].describe())\n",
    "#make two columns hard_disk,ssd fill the respective values in it"
   ]
  },
  {
   "cell_type": "code",
   "execution_count": 1168,
   "id": "a2d689d2",
   "metadata": {},
   "outputs": [],
   "source": [
    "df[\"hard_disk\"].fillna(\"False\",inplace=True)"
   ]
  },
  {
   "cell_type": "code",
   "execution_count": 1177,
   "id": "f871edf5",
   "metadata": {},
   "outputs": [],
   "source": [
    "df[\"hdd\"]=df[\"hard_disk\"].str.split(\",\").str.get(0).str.strip()"
   ]
  },
  {
   "cell_type": "code",
   "execution_count": 1178,
   "id": "a5b59497",
   "metadata": {},
   "outputs": [],
   "source": [
    "df[\"ssd\"]=df[\"hard_disk\"].str.split(\",\").str.get(1).str.strip()"
   ]
  },
  {
   "cell_type": "code",
   "execution_count": 1180,
   "id": "81e976ad",
   "metadata": {},
   "outputs": [],
   "source": [
    "temp_df[\"ssd\"]=df[\"hdd\"].apply(lambda x: x if \"SSD\" in x else np.nan )\n"
   ]
  },
  {
   "cell_type": "code",
   "execution_count": 1182,
   "id": "a4d931e1",
   "metadata": {},
   "outputs": [],
   "source": [
    "df.loc[temp_df[\"ssd\"].index,\"ssd\"]=temp_df[\"ssd\"]"
   ]
  },
  {
   "cell_type": "code",
   "execution_count": 1186,
   "id": "a96dcee2",
   "metadata": {},
   "outputs": [],
   "source": [
    "df[\"ssd\"]=df[\"ssd\"].str.split().str.get(0).astype(\"float\")"
   ]
  },
  {
   "cell_type": "code",
   "execution_count": 1188,
   "id": "1de2c738",
   "metadata": {},
   "outputs": [],
   "source": [
    "df[\"ssd\"].fillna(0,inplace=True)"
   ]
  },
  {
   "cell_type": "code",
   "execution_count": 1190,
   "id": "56d6e462",
   "metadata": {},
   "outputs": [],
   "source": [
    "df[\"ssd\"]=df[\"ssd\"].apply(lambda x: x*1024 if x<10 else x)"
   ]
  },
  {
   "cell_type": "code",
   "execution_count": 1193,
   "id": "1afc7fcf",
   "metadata": {},
   "outputs": [],
   "source": [
    "df[\"hdd\"]=df[\"hdd\"].apply(lambda x: x if \"HARD\" in x else 0)"
   ]
  },
  {
   "cell_type": "code",
   "execution_count": 1195,
   "id": "c6e5f499",
   "metadata": {},
   "outputs": [],
   "source": [
    "df[\"hdd\"]=df[\"hdd\"].str.split().str.get(0).str.strip().astype(\"float\")"
   ]
  },
  {
   "cell_type": "code",
   "execution_count": 1196,
   "id": "99c25365",
   "metadata": {},
   "outputs": [],
   "source": [
    "df[\"hdd\"]=df[\"hdd\"].apply(lambda x: x*1024 if x<10 else x)"
   ]
  },
  {
   "cell_type": "markdown",
   "id": "5ca3ea72",
   "metadata": {},
   "source": [
    "**Antiglare**"
   ]
  },
  {
   "cell_type": "code",
   "execution_count": 941,
   "id": "b278868a",
   "metadata": {
    "collapsed": true
   },
   "outputs": [
    {
     "name": "stdout",
     "output_type": "stream",
     "text": [
      "167\n",
      "<class 'pandas.core.series.Series'>\n",
      "RangeIndex: 1020 entries, 0 to 1019\n",
      "Series name: antiglare1\n",
      "Non-Null Count  Dtype \n",
      "--------------  ----- \n",
      "853 non-null    object\n",
      "dtypes: object(1)\n",
      "memory usage: 8.1+ KB\n",
      "None\n",
      "Anti Glare    853\n",
      "Name: antiglare1, dtype: int64\n",
      "count            853\n",
      "unique             1\n",
      "top       Anti Glare\n",
      "freq             853\n",
      "Name: antiglare1, dtype: object\n"
     ]
    }
   ],
   "source": [
    "print(df[\"antiglare1\"].isnull().sum())\n",
    "print(df[\"antiglare1\"].info())\n",
    "print(df[\"antiglare1\"].value_counts())\n",
    "print(df[\"antiglare1\"].describe())"
   ]
  },
  {
   "cell_type": "code",
   "execution_count": 944,
   "id": "a30b4d35",
   "metadata": {},
   "outputs": [],
   "source": [
    "df[\"antiglare1\"].fillna(\"False\",inplace=True)"
   ]
  },
  {
   "cell_type": "code",
   "execution_count": 947,
   "id": "d5cf5167",
   "metadata": {
    "scrolled": true
   },
   "outputs": [],
   "source": [
    "df[\"antiglare1\"]=df[\"antiglare1\"].apply(lambda x: 1 if \"Anti Glare\" in x else 0)"
   ]
  },
  {
   "cell_type": "markdown",
   "id": "241bbb5c",
   "metadata": {},
   "source": [
    "**Touchscreen**"
   ]
  },
  {
   "cell_type": "code",
   "execution_count": 950,
   "id": "2dec1480",
   "metadata": {
    "collapsed": true
   },
   "outputs": [
    {
     "name": "stdout",
     "output_type": "stream",
     "text": [
      "928\n",
      "<class 'pandas.core.series.Series'>\n",
      "RangeIndex: 1020 entries, 0 to 1019\n",
      "Series name: touch_screen1\n",
      "Non-Null Count  Dtype \n",
      "--------------  ----- \n",
      "92 non-null     object\n",
      "dtypes: object(1)\n",
      "memory usage: 8.1+ KB\n",
      "None\n",
      "Touch Screen    92\n",
      "Name: touch_screen1, dtype: int64\n",
      "count               92\n",
      "unique               1\n",
      "top       Touch Screen\n",
      "freq                92\n",
      "Name: touch_screen1, dtype: object\n"
     ]
    }
   ],
   "source": [
    "print(df[\"touch_screen1\"].isnull().sum())\n",
    "print(df[\"touch_screen1\"].info())\n",
    "print(df[\"touch_screen1\"].value_counts())\n",
    "print(df[\"touch_screen1\"].describe())"
   ]
  },
  {
   "cell_type": "code",
   "execution_count": 952,
   "id": "73378a95",
   "metadata": {},
   "outputs": [],
   "source": [
    "df[\"touch_screen1\"].fillna(\"False\",inplace=True)"
   ]
  },
  {
   "cell_type": "code",
   "execution_count": 953,
   "id": "5eab54d6",
   "metadata": {},
   "outputs": [],
   "source": [
    "df[\"touch_screen1\"]=df[\"touch_screen1\"].apply(lambda x: 1 if \"Touch Screen\" in x else 0).astype(\"int\")"
   ]
  },
  {
   "cell_type": "markdown",
   "id": "f150497d",
   "metadata": {},
   "source": [
    "**Cores**"
   ]
  },
  {
   "cell_type": "code",
   "execution_count": 954,
   "id": "0ecd7904",
   "metadata": {
    "collapsed": true
   },
   "outputs": [
    {
     "name": "stdout",
     "output_type": "stream",
     "text": [
      "5\n",
      "<class 'pandas.core.series.Series'>\n",
      "RangeIndex: 1020 entries, 0 to 1019\n",
      "Series name: cores1\n",
      "Non-Null Count  Dtype \n",
      "--------------  ----- \n",
      "1015 non-null   object\n",
      "dtypes: object(1)\n",
      "memory usage: 8.1+ KB\n",
      "None\n",
      "Hexa Core              145\n",
      "10 Cores (2P + 8E)     135\n",
      "Quad Core              128\n",
      "Octa Core              120\n",
      "12 Cores (4P + 8E)     108\n",
      "Dual Core               91\n",
      "14 Cores (6P + 8E)      76\n",
      "Octa Core (4P + 4E)     73\n",
      "Hexa Core (2P + 4E)     55\n",
      "10 Cores (6P + 4E)      44\n",
      "24 Cores (8P + 16E)     17\n",
      "16 Cores (8P + 8E)      13\n",
      "5 Cores (1P + 4E)        3\n",
      "16 Cores                 2\n",
      "10 Cores                 2\n",
      "14 Cores                 1\n",
      "12 Cores (8P + 4E)       1\n",
      "12 Cores                 1\n",
      "Name: cores1, dtype: int64\n",
      "count          1015\n",
      "unique           18\n",
      "top       Hexa Core\n",
      "freq            145\n",
      "Name: cores1, dtype: object\n"
     ]
    }
   ],
   "source": [
    "print(df[\"cores1\"].isnull().sum())\n",
    "print(df[\"cores1\"].info())\n",
    "print(df[\"cores1\"].value_counts())\n",
    "print(df[\"cores1\"].describe())"
   ]
  },
  {
   "cell_type": "code",
   "execution_count": 955,
   "id": "a9d7d1ef",
   "metadata": {},
   "outputs": [],
   "source": [
    "df[\"cores1\"].fillna(\"False\",inplace=True)"
   ]
  },
  {
   "cell_type": "code",
   "execution_count": 958,
   "id": "19a5ed6a",
   "metadata": {},
   "outputs": [],
   "source": [
    "df[\"cores1\"]=df[\"cores1\"].str.split().str.get(0)"
   ]
  },
  {
   "cell_type": "code",
   "execution_count": 963,
   "id": "a297dcf3",
   "metadata": {},
   "outputs": [],
   "source": [
    "def core(x):\n",
    "    if x==\"Hexa\":\n",
    "        return 6\n",
    "    elif x==\"Octa\":\n",
    "        return 8\n",
    "    elif x==\"Quad\":\n",
    "        return 4\n",
    "    elif x==\"Dual\":\n",
    "        return 2\n",
    "    elif x==\"False\":\n",
    "        return np.nan\n",
    "    else:\n",
    "        return x\n",
    "df[\"cores1\"]=df[\"cores1\"].apply(core).astype(\"float\")"
   ]
  },
  {
   "cell_type": "markdown",
   "id": "0e76f2ec",
   "metadata": {},
   "source": [
    "**Battery Capacity**"
   ]
  },
  {
   "cell_type": "code",
   "execution_count": 965,
   "id": "4f0dc69b",
   "metadata": {
    "collapsed": true
   },
   "outputs": [
    {
     "name": "stdout",
     "output_type": "stream",
     "text": [
      "254\n",
      "<class 'pandas.core.series.Series'>\n",
      "RangeIndex: 1020 entries, 0 to 1019\n",
      "Series name: battery_capacity\n",
      "Non-Null Count  Dtype \n",
      "--------------  ----- \n",
      "766 non-null    object\n",
      "dtypes: object(1)\n",
      "memory usage: 8.1+ KB\n",
      "None\n",
      "41 Wh                   90\n",
      "50 Wh                   58\n",
      "90 Wh                   44\n",
      "45 Wh                   42\n",
      "53.5 Wh                 40\n",
      "70 Wh                   32\n",
      "52.5 Wh                 25\n",
      "54 Wh                   22\n",
      "51 Wh                   20\n",
      "42 Wh                   20\n",
      "86 Wh                   18\n",
      "50 Wh BatteryGood       17\n",
      "55 Wh                   14\n",
      "70 Wh BatteryGood       13\n",
      "40 Wh                   12\n",
      "63 Wh                   12\n",
      "52.5 Wh BatteryGood     11\n",
      "97 Wh                   11\n",
      "83 Wh                   11\n",
      "45 Wh BatteryGood       11\n",
      "37 Wh                   10\n",
      "52.4 Wh                  9\n",
      "48 Wh                    9\n",
      "60 Wh                    9\n",
      "56.6 Wh                  9\n",
      "56 Wh                    9\n",
      "99 Wh BatteryGood        8\n",
      "47 Wh                    8\n",
      "43 Wh                    7\n",
      "38 Wh                    7\n",
      "60 Wh BatteryGood        7\n",
      "80 Wh BatteryGood        7\n",
      "17.85 Wh BatteryGood     7\n",
      "99.9 Wh                  7\n",
      "54 Wh BatteryGood        6\n",
      "36 Wh                    6\n",
      "75 Wh                    6\n",
      "76 Wh                    6\n",
      "56.6 Wh BatteryGood      6\n",
      "72 Wh BatteryGood        6\n",
      "64 Wh                    5\n",
      "57.5 Wh                  5\n",
      "90 Wh BatteryGood        5\n",
      "59 Wh                    4\n",
      "53.8 Wh                  4\n",
      "45.5 Wh                  4\n",
      "75 Wh BatteryGood        4\n",
      "99 Wh                    4\n",
      "57 Wh                    4\n",
      "18.5 Wh                  4\n",
      "65 Wh                    3\n",
      "38 Wh BatteryGood        3\n",
      "39.3 Wh                  2\n",
      "72 Wh                    2\n",
      "42 Wh BatteryGood        2\n",
      "47 Wh BatteryGood        2\n",
      "68.1 Wh BatteryGood      2\n",
      "68 Wh                    2\n",
      "80 Wh                    2\n",
      "40 Wh BatteryGood        2\n",
      "73 Wh                    2\n",
      "58.2 Wh BatteryGood      2\n",
      "49.9 Wh BatteryGood      2\n",
      "63 Wh BatteryGood        2\n",
      "96 Wh                    2\n",
      "80.5 Wh                  1\n",
      "45.5 Wh BatteryGood      1\n",
      "87 Wh                    1\n",
      "84 Wh BatteryGood        1\n",
      "41 Wh BatteryGood        1\n",
      "51 Wh BatteryGood        1\n",
      "66.5 Wh BatteryGood      1\n",
      "100 Wh BatteryGood       1\n",
      "43 Wh BatteryGood        1\n",
      "66.9 Wh BatteryGood      1\n",
      "52.6 Wh BatteryGood      1\n",
      "46.2 Wh BatteryGood      1\n",
      "83 Wh BatteryGood        1\n",
      "94.3 Wh                  1\n",
      "61 Wh BatteryGood        1\n",
      "68 Wh BatteryGood        1\n",
      "76 Wh BatteryGood        1\n",
      "65 Wh BatteryGood        1\n",
      "6 Wh BatteryGood         1\n",
      "Name: battery_capacity, dtype: int64\n",
      "count       766\n",
      "unique       84\n",
      "top       41 Wh\n",
      "freq         90\n",
      "Name: battery_capacity, dtype: object\n"
     ]
    }
   ],
   "source": [
    "print(df[\"battery_capacity\"].isnull().sum())\n",
    "print(df[\"battery_capacity\"].info())\n",
    "print(df[\"battery_capacity\"].value_counts())\n",
    "print(df[\"battery_capacity\"].describe())\n",
    "#254 null values"
   ]
  },
  {
   "cell_type": "code",
   "execution_count": 969,
   "id": "8f8e7782",
   "metadata": {},
   "outputs": [],
   "source": [
    "df[\"battery_capacity\"]=df[\"battery_capacity\"].str.split().str.get(0)"
   ]
  },
  {
   "cell_type": "code",
   "execution_count": 970,
   "id": "b6ce2b4e",
   "metadata": {},
   "outputs": [],
   "source": [
    "df[\"battery_capacity\"]=df[\"battery_capacity\"].astype(\"float\")"
   ]
  },
  {
   "cell_type": "markdown",
   "id": "45dbb844",
   "metadata": {},
   "source": [
    "**Battery Cell**"
   ]
  },
  {
   "cell_type": "code",
   "execution_count": 971,
   "id": "727aea93",
   "metadata": {
    "collapsed": true
   },
   "outputs": [
    {
     "name": "stdout",
     "output_type": "stream",
     "text": [
      "202\n",
      "<class 'pandas.core.series.Series'>\n",
      "RangeIndex: 1020 entries, 0 to 1019\n",
      "Series name: battery_cell\n",
      "Non-Null Count  Dtype \n",
      "--------------  ----- \n",
      "818 non-null    object\n",
      "dtypes: object(1)\n",
      "memory usage: 8.1+ KB\n",
      "None\n",
      " 3 Cell BatteryGood    389\n",
      " 4 Cell BatteryGood    155\n",
      "3 Cell Battery         133\n",
      " 6 Cell BatteryGood     52\n",
      "4 Cell Battery          44\n",
      " 2 Cell BatteryGood     29\n",
      "2 Cell Battery           9\n",
      "6 Cell Battery           7\n",
      "Name: battery_cell, dtype: int64\n",
      "count                     818\n",
      "unique                      8\n",
      "top        3 Cell BatteryGood\n",
      "freq                      389\n",
      "Name: battery_cell, dtype: object\n"
     ]
    }
   ],
   "source": [
    "print(df[\"battery_cell\"].isnull().sum())\n",
    "print(df[\"battery_cell\"].info())\n",
    "print(df[\"battery_cell\"].value_counts())\n",
    "print(df[\"battery_cell\"].describe())"
   ]
  },
  {
   "cell_type": "code",
   "execution_count": 974,
   "id": "fe1cd485",
   "metadata": {},
   "outputs": [],
   "source": [
    "df[\"battery_cell\"]=df[\"battery_cell\"].str.split().str.get(0).astype(\"float\")"
   ]
  },
  {
   "cell_type": "markdown",
   "id": "a5ae35e6",
   "metadata": {},
   "source": [
    "**HDMI**"
   ]
  },
  {
   "cell_type": "code",
   "execution_count": 975,
   "id": "4926e1d2",
   "metadata": {
    "collapsed": true
   },
   "outputs": [
    {
     "name": "stdout",
     "output_type": "stream",
     "text": [
      "59\n",
      "<class 'pandas.core.series.Series'>\n",
      "RangeIndex: 1020 entries, 0 to 1019\n",
      "Series name: hdmi1\n",
      "Non-Null Count  Dtype \n",
      "--------------  ----- \n",
      "961 non-null    object\n",
      "dtypes: object(1)\n",
      "memory usage: 8.1+ KB\n",
      "None\n",
      "HDMI     526\n",
      " HDMI    435\n",
      "Name: hdmi1, dtype: int64\n",
      "count      961\n",
      "unique       2\n",
      "top       HDMI\n",
      "freq       526\n",
      "Name: hdmi1, dtype: object\n"
     ]
    }
   ],
   "source": [
    "print(df[\"hdmi1\"].isnull().sum())\n",
    "print(df[\"hdmi1\"].info())\n",
    "print(df[\"hdmi1\"].value_counts())\n",
    "print(df[\"hdmi1\"].describe())"
   ]
  },
  {
   "cell_type": "code",
   "execution_count": 976,
   "id": "dac1bfdc",
   "metadata": {},
   "outputs": [],
   "source": [
    "df[\"hdmi1\"].fillna(\"False\",inplace=True)"
   ]
  },
  {
   "cell_type": "code",
   "execution_count": 979,
   "id": "f409c65a",
   "metadata": {},
   "outputs": [],
   "source": [
    "df[\"hdmi1\"]=df[\"hdmi1\"].str.strip().apply(lambda x: 1 if \"HDMI\" in x else 0).astype(\"int\")"
   ]
  },
  {
   "cell_type": "markdown",
   "id": "a49f6011",
   "metadata": {},
   "source": [
    "**Ethernet**"
   ]
  },
  {
   "cell_type": "code",
   "execution_count": 980,
   "id": "e0d4c8a7",
   "metadata": {
    "collapsed": true
   },
   "outputs": [
    {
     "name": "stdout",
     "output_type": "stream",
     "text": [
      "584\n",
      "<class 'pandas.core.series.Series'>\n",
      "RangeIndex: 1020 entries, 0 to 1019\n",
      "Series name: ethernet\n",
      "Non-Null Count  Dtype \n",
      "--------------  ----- \n",
      "436 non-null    object\n",
      "dtypes: object(1)\n",
      "memory usage: 8.1+ KB\n",
      "None\n",
      "Ethernet (LAN)    436\n",
      "Name: ethernet, dtype: int64\n",
      "count                436\n",
      "unique                 1\n",
      "top       Ethernet (LAN)\n",
      "freq                 436\n",
      "Name: ethernet, dtype: object\n"
     ]
    }
   ],
   "source": [
    "print(df[\"ethernet\"].isnull().sum())\n",
    "print(df[\"ethernet\"].info())\n",
    "print(df[\"ethernet\"].value_counts())\n",
    "print(df[\"ethernet\"].describe())"
   ]
  },
  {
   "cell_type": "code",
   "execution_count": 982,
   "id": "4f157708",
   "metadata": {},
   "outputs": [],
   "source": [
    "df[\"ethernet\"].fillna(\"False\",inplace=True)"
   ]
  },
  {
   "cell_type": "code",
   "execution_count": 986,
   "id": "6c5ca747",
   "metadata": {},
   "outputs": [],
   "source": [
    "df[\"ethernet\"]=df[\"ethernet\"].str.split().str.get(0).apply(lambda x: 1 if \"Ethernet\" in x else 0).astype(\"int\")"
   ]
  },
  {
   "cell_type": "markdown",
   "id": "b73068c0",
   "metadata": {},
   "source": [
    "**Multi Card Reader**"
   ]
  },
  {
   "cell_type": "code",
   "execution_count": 987,
   "id": "c2d4cfe4",
   "metadata": {
    "collapsed": true
   },
   "outputs": [
    {
     "name": "stdout",
     "output_type": "stream",
     "text": [
      "715\n",
      "<class 'pandas.core.series.Series'>\n",
      "RangeIndex: 1020 entries, 0 to 1019\n",
      "Series name: multi_card_reader\n",
      "Non-Null Count  Dtype \n",
      "--------------  ----- \n",
      "305 non-null    object\n",
      "dtypes: object(1)\n",
      "memory usage: 8.1+ KB\n",
      "None\n",
      " Multi Card Reader    302\n",
      "Multi Card Reader       3\n",
      "Name: multi_card_reader, dtype: int64\n",
      "count                    305\n",
      "unique                     2\n",
      "top        Multi Card Reader\n",
      "freq                     302\n",
      "Name: multi_card_reader, dtype: object\n"
     ]
    }
   ],
   "source": [
    "print(df[\"multi_card_reader\"].isnull().sum())\n",
    "print(df[\"multi_card_reader\"].info())\n",
    "print(df[\"multi_card_reader\"].value_counts())\n",
    "print(df[\"multi_card_reader\"].describe())"
   ]
  },
  {
   "cell_type": "code",
   "execution_count": 988,
   "id": "ae799919",
   "metadata": {},
   "outputs": [],
   "source": [
    "df[\"multi_card_reader\"].fillna(\"False\",inplace=True)"
   ]
  },
  {
   "cell_type": "code",
   "execution_count": 989,
   "id": "918650cd",
   "metadata": {},
   "outputs": [],
   "source": [
    "df[\"multi_card_reader\"]=df[\"multi_card_reader\"].str.strip().apply(lambda x: 1 if \"Multi Card Reader\" in x else 0).astype(\"int\")"
   ]
  },
  {
   "cell_type": "markdown",
   "id": "3c89e1ff",
   "metadata": {},
   "source": [
    "**Thunderbolt**"
   ]
  },
  {
   "cell_type": "code",
   "execution_count": 991,
   "id": "ae894668",
   "metadata": {
    "collapsed": true
   },
   "outputs": [
    {
     "name": "stdout",
     "output_type": "stream",
     "text": [
      "743\n",
      "<class 'pandas.core.series.Series'>\n",
      "RangeIndex: 1020 entries, 0 to 1019\n",
      "Series name: thunderbolt\n",
      "Non-Null Count  Dtype \n",
      "--------------  ----- \n",
      "277 non-null    object\n",
      "dtypes: object(1)\n",
      "memory usage: 8.1+ KB\n",
      "None\n",
      " Thunderbolt    243\n",
      "Thunderbolt      34\n",
      "Name: thunderbolt, dtype: int64\n",
      "count              277\n",
      "unique               2\n",
      "top        Thunderbolt\n",
      "freq               243\n",
      "Name: thunderbolt, dtype: object\n"
     ]
    }
   ],
   "source": [
    "print(df[\"thunderbolt\"].isnull().sum())\n",
    "print(df[\"thunderbolt\"].info())\n",
    "print(df[\"thunderbolt\"].value_counts())\n",
    "print(df[\"thunderbolt\"].describe())"
   ]
  },
  {
   "cell_type": "code",
   "execution_count": 992,
   "id": "dbbd62a4",
   "metadata": {},
   "outputs": [],
   "source": [
    "df[\"thunderbolt\"].fillna(\"False\",inplace=True)"
   ]
  },
  {
   "cell_type": "code",
   "execution_count": 995,
   "id": "7325e086",
   "metadata": {},
   "outputs": [],
   "source": [
    "df[\"thunderbolt\"]=df[\"thunderbolt\"].str.strip().apply(lambda x: 1 if \"Thunderbolt\" in x else 0).astype(\"int\")"
   ]
  },
  {
   "cell_type": "markdown",
   "id": "f266e98e",
   "metadata": {},
   "source": [
    "**Display Port**"
   ]
  },
  {
   "cell_type": "code",
   "execution_count": 996,
   "id": "69f8985d",
   "metadata": {
    "collapsed": true
   },
   "outputs": [
    {
     "name": "stdout",
     "output_type": "stream",
     "text": [
      "1000\n",
      "<class 'pandas.core.series.Series'>\n",
      "RangeIndex: 1020 entries, 0 to 1019\n",
      "Series name: display_port\n",
      "Non-Null Count  Dtype \n",
      "--------------  ----- \n",
      "20 non-null     object\n",
      "dtypes: object(1)\n",
      "memory usage: 8.1+ KB\n",
      "None\n",
      " Display Port    18\n",
      "Display Port      2\n",
      "Name: display_port, dtype: int64\n",
      "count                20\n",
      "unique                2\n",
      "top        Display Port\n",
      "freq                 18\n",
      "Name: display_port, dtype: object\n"
     ]
    }
   ],
   "source": [
    "print(df[\"display_port\"].isnull().sum())\n",
    "print(df[\"display_port\"].info())\n",
    "print(df[\"display_port\"].value_counts())\n",
    "print(df[\"display_port\"].describe())"
   ]
  },
  {
   "cell_type": "code",
   "execution_count": 998,
   "id": "e7b5ecb1",
   "metadata": {},
   "outputs": [],
   "source": [
    "df[\"display_port\"].fillna(\"False\",inplace=True)"
   ]
  },
  {
   "cell_type": "code",
   "execution_count": 999,
   "id": "692010a8",
   "metadata": {},
   "outputs": [],
   "source": [
    "df[\"display_port\"]=df[\"display_port\"].str.strip().apply(lambda x: 1 if \"Display Port\" in x else 0).astype(\"int\")"
   ]
  },
  {
   "cell_type": "markdown",
   "id": "c5fb2fd4",
   "metadata": {},
   "source": [
    "**VGA**"
   ]
  },
  {
   "cell_type": "code",
   "execution_count": 1001,
   "id": "dda77579",
   "metadata": {
    "collapsed": true
   },
   "outputs": [
    {
     "name": "stdout",
     "output_type": "stream",
     "text": [
      "1016\n",
      "<class 'pandas.core.series.Series'>\n",
      "RangeIndex: 1020 entries, 0 to 1019\n",
      "Series name: vga\n",
      "Non-Null Count  Dtype \n",
      "--------------  ----- \n",
      "4 non-null      object\n",
      "dtypes: object(1)\n",
      "memory usage: 8.1+ KB\n",
      "None\n",
      " VGA    4\n",
      "Name: vga, dtype: int64\n",
      "count        4\n",
      "unique       1\n",
      "top        VGA\n",
      "freq         4\n",
      "Name: vga, dtype: object\n"
     ]
    }
   ],
   "source": [
    "print(df[\"vga\"].isnull().sum())\n",
    "print(df[\"vga\"].info())\n",
    "print(df[\"vga\"].value_counts())\n",
    "print(df[\"vga\"].describe())"
   ]
  },
  {
   "cell_type": "code",
   "execution_count": 1002,
   "id": "5a642c40",
   "metadata": {},
   "outputs": [],
   "source": [
    "df[\"vga\"].fillna(\"False\",inplace=True)"
   ]
  },
  {
   "cell_type": "code",
   "execution_count": 1003,
   "id": "7172c499",
   "metadata": {},
   "outputs": [],
   "source": [
    "df[\"vga\"]=df[\"vga\"].str.strip().apply(lambda x: 1 if \"VGA\" in x else 0).astype(\"int\")"
   ]
  },
  {
   "cell_type": "markdown",
   "id": "616b1418",
   "metadata": {},
   "source": [
    "**Back Light**"
   ]
  },
  {
   "cell_type": "code",
   "execution_count": 1007,
   "id": "7b4f0880",
   "metadata": {
    "collapsed": true
   },
   "outputs": [
    {
     "name": "stdout",
     "output_type": "stream",
     "text": [
      "0\n",
      "<class 'pandas.core.series.Series'>\n",
      "RangeIndex: 1020 entries, 0 to 1019\n",
      "Series name: backlit\n",
      "Non-Null Count  Dtype\n",
      "--------------  -----\n",
      "1020 non-null   int32\n",
      "dtypes: int32(1)\n",
      "memory usage: 4.1 KB\n",
      "None\n",
      "1    816\n",
      "0    204\n",
      "Name: backlit, dtype: int64\n",
      "count    1020.000000\n",
      "mean        0.800000\n",
      "std         0.400196\n",
      "min         0.000000\n",
      "25%         1.000000\n",
      "50%         1.000000\n",
      "75%         1.000000\n",
      "max         1.000000\n",
      "Name: backlit, dtype: float64\n"
     ]
    }
   ],
   "source": [
    "print(df[\"backlit\"].isnull().sum())\n",
    "print(df[\"backlit\"].info())\n",
    "print(df[\"backlit\"].value_counts())\n",
    "print(df[\"backlit\"].describe())"
   ]
  },
  {
   "cell_type": "code",
   "execution_count": 1005,
   "id": "0796165b",
   "metadata": {},
   "outputs": [],
   "source": [
    "df[\"backlit\"].fillna(\"False\",inplace=True)"
   ]
  },
  {
   "cell_type": "code",
   "execution_count": 1006,
   "id": "0aa52e55",
   "metadata": {},
   "outputs": [],
   "source": [
    "df[\"backlit\"]=df[\"backlit\"].str.strip().apply(lambda x: 1 if \"Backlit Keyboard\" in x else 0).astype(\"int\")"
   ]
  },
  {
   "cell_type": "markdown",
   "id": "8cf16056",
   "metadata": {},
   "source": [
    "**Fingerprint Sensor**"
   ]
  },
  {
   "cell_type": "code",
   "execution_count": 1008,
   "id": "586271a6",
   "metadata": {
    "collapsed": true
   },
   "outputs": [
    {
     "name": "stdout",
     "output_type": "stream",
     "text": [
      "693\n",
      "<class 'pandas.core.series.Series'>\n",
      "RangeIndex: 1020 entries, 0 to 1019\n",
      "Series name: fingerprint_sensor\n",
      "Non-Null Count  Dtype \n",
      "--------------  ----- \n",
      "327 non-null    object\n",
      "dtypes: object(1)\n",
      "memory usage: 8.1+ KB\n",
      "None\n",
      "Fingerprint Sensor    327\n",
      "Name: fingerprint_sensor, dtype: int64\n",
      "count                    327\n",
      "unique                     1\n",
      "top       Fingerprint Sensor\n",
      "freq                     327\n",
      "Name: fingerprint_sensor, dtype: object\n"
     ]
    }
   ],
   "source": [
    "print(df[\"fingerprint_sensor\"].isnull().sum())\n",
    "print(df[\"fingerprint_sensor\"].info())\n",
    "print(df[\"fingerprint_sensor\"].value_counts())\n",
    "print(df[\"fingerprint_sensor\"].describe())"
   ]
  },
  {
   "cell_type": "code",
   "execution_count": 1010,
   "id": "8d8712f9",
   "metadata": {},
   "outputs": [],
   "source": [
    "df[\"fingerprint_sensor\"].fillna(\"False\",inplace=True)"
   ]
  },
  {
   "cell_type": "code",
   "execution_count": 1011,
   "id": "7acc0fdc",
   "metadata": {},
   "outputs": [],
   "source": [
    "df[\"fingerprint_sensor\"]=df[\"fingerprint_sensor\"].str.strip().apply(lambda x: 1 if \"Fingerprint Sensor\" in x else 0).astype(\"int\")"
   ]
  },
  {
   "cell_type": "markdown",
   "id": "f0d74728",
   "metadata": {},
   "source": [
    "**Inbuilt Microphone**"
   ]
  },
  {
   "cell_type": "code",
   "execution_count": 1012,
   "id": "071b56d6",
   "metadata": {
    "collapsed": true
   },
   "outputs": [
    {
     "name": "stdout",
     "output_type": "stream",
     "text": [
      "13\n",
      "<class 'pandas.core.series.Series'>\n",
      "RangeIndex: 1020 entries, 0 to 1019\n",
      "Series name: inbuilt_microphone\n",
      "Non-Null Count  Dtype \n",
      "--------------  ----- \n",
      "1007 non-null   object\n",
      "dtypes: object(1)\n",
      "memory usage: 8.1+ KB\n",
      "None\n",
      " Inbuilt Microphone    817\n",
      "Inbuilt Microphone     190\n",
      "Name: inbuilt_microphone, dtype: int64\n",
      "count                    1007\n",
      "unique                      2\n",
      "top        Inbuilt Microphone\n",
      "freq                      817\n",
      "Name: inbuilt_microphone, dtype: object\n"
     ]
    }
   ],
   "source": [
    "print(df[\"inbuilt_microphone\"].isnull().sum())\n",
    "print(df[\"inbuilt_microphone\"].info())\n",
    "print(df[\"inbuilt_microphone\"].value_counts())\n",
    "print(df[\"inbuilt_microphone\"].describe())"
   ]
  },
  {
   "cell_type": "code",
   "execution_count": 1013,
   "id": "9ad7a0b2",
   "metadata": {},
   "outputs": [],
   "source": [
    "df[\"inbuilt_microphone\"].fillna(\"False\",inplace=True)"
   ]
  },
  {
   "cell_type": "code",
   "execution_count": 1015,
   "id": "b839287c",
   "metadata": {},
   "outputs": [],
   "source": [
    "df[\"inbuilt_microphone\"]=df[\"inbuilt_microphone\"].str.strip().apply(lambda x: 1 if \"Inbuilt Microphone\" in x else 0).astype(\"int\")"
   ]
  },
  {
   "cell_type": "markdown",
   "id": "698324d8",
   "metadata": {},
   "source": [
    "**USB 2.0**"
   ]
  },
  {
   "cell_type": "code",
   "execution_count": 1020,
   "id": "0b67c3e9",
   "metadata": {
    "collapsed": true
   },
   "outputs": [
    {
     "name": "stdout",
     "output_type": "stream",
     "text": [
      "723\n",
      "<class 'pandas.core.series.Series'>\n",
      "RangeIndex: 1020 entries, 0 to 1019\n",
      "Series name: usb2\n",
      "Non-Null Count  Dtype  \n",
      "--------------  -----  \n",
      "297 non-null    float64\n",
      "dtypes: float64(1)\n",
      "memory usage: 8.1 KB\n",
      "None\n",
      "1.0    235\n",
      "2.0     62\n",
      "Name: usb2, dtype: int64\n",
      "count    297.000000\n",
      "mean       1.208754\n",
      "std        0.407104\n",
      "min        1.000000\n",
      "25%        1.000000\n",
      "50%        1.000000\n",
      "75%        1.000000\n",
      "max        2.000000\n",
      "Name: usb2, dtype: float64\n"
     ]
    }
   ],
   "source": [
    "print(df[\"usb2\"].isnull().sum())\n",
    "print(df[\"usb2\"].info())\n",
    "print(df[\"usb2\"].value_counts())\n",
    "print(df[\"usb2\"].describe())"
   ]
  },
  {
   "cell_type": "code",
   "execution_count": 1019,
   "id": "273e045d",
   "metadata": {},
   "outputs": [],
   "source": [
    "df[\"usb2\"]=df[\"usb2\"].str.split(\"x\").str.get(0).astype(\"float\")"
   ]
  },
  {
   "cell_type": "markdown",
   "id": "cbb1f5d8",
   "metadata": {},
   "source": [
    "**USB 3.0**"
   ]
  },
  {
   "cell_type": "code",
   "execution_count": 1022,
   "id": "25ef2e86",
   "metadata": {
    "collapsed": true
   },
   "outputs": [
    {
     "name": "stdout",
     "output_type": "stream",
     "text": [
      "63\n",
      "<class 'pandas.core.series.Series'>\n",
      "RangeIndex: 1020 entries, 0 to 1019\n",
      "Series name: usb3\n",
      "Non-Null Count  Dtype \n",
      "--------------  ----- \n",
      "957 non-null    object\n",
      "dtypes: object(1)\n",
      "memory usage: 8.1+ KB\n",
      "None\n",
      "2 x USB 3.0     454\n",
      " 1 x USB 3.0    157\n",
      "3 x USB 3.0     134\n",
      " 2 x USB 3.0    132\n",
      "1 x USB 3.0      74\n",
      " 3 x USB 3.0      3\n",
      "4 x USB 3.0       3\n",
      "Name: usb3, dtype: int64\n",
      "count             957\n",
      "unique              7\n",
      "top       2 x USB 3.0\n",
      "freq              454\n",
      "Name: usb3, dtype: object\n"
     ]
    }
   ],
   "source": [
    "print(df[\"usb3\"].isnull().sum())\n",
    "print(df[\"usb3\"].info())\n",
    "print(df[\"usb3\"].value_counts())\n",
    "print(df[\"usb3\"].describe())"
   ]
  },
  {
   "cell_type": "code",
   "execution_count": 1025,
   "id": "e0edc3df",
   "metadata": {},
   "outputs": [],
   "source": [
    "df[\"usb3\"]=df[\"usb3\"].str.split(\"x\").str.get(0).str.strip().astype(\"float\")"
   ]
  },
  {
   "cell_type": "markdown",
   "id": "0a395162",
   "metadata": {},
   "source": [
    "**Type-C**"
   ]
  },
  {
   "cell_type": "code",
   "execution_count": 1026,
   "id": "46e1ed05",
   "metadata": {
    "collapsed": true
   },
   "outputs": [
    {
     "name": "stdout",
     "output_type": "stream",
     "text": [
      "60\n",
      "<class 'pandas.core.series.Series'>\n",
      "RangeIndex: 1020 entries, 0 to 1019\n",
      "Series name: typec\n",
      "Non-Null Count  Dtype \n",
      "--------------  ----- \n",
      "960 non-null    object\n",
      "dtypes: object(1)\n",
      "memory usage: 8.1+ KB\n",
      "None\n",
      " 1 x USB Type-C    615\n",
      " 2 x USB Type-C    283\n",
      "1 x USB Type-C      20\n",
      "2 x USB Type-C      14\n",
      " 3 x USB Type-C     13\n",
      "3 x USB Type-C      11\n",
      "4 x USB Type-C       4\n",
      "Name: typec, dtype: int64\n",
      "count                 960\n",
      "unique                  7\n",
      "top        1 x USB Type-C\n",
      "freq                  615\n",
      "Name: typec, dtype: object\n"
     ]
    }
   ],
   "source": [
    "print(df[\"typec\"].isnull().sum())\n",
    "print(df[\"typec\"].info())\n",
    "print(df[\"typec\"].value_counts())\n",
    "print(df[\"typec\"].describe())"
   ]
  },
  {
   "cell_type": "code",
   "execution_count": 1027,
   "id": "99f02755",
   "metadata": {},
   "outputs": [],
   "source": [
    "df[\"typec\"]=df[\"typec\"].str.split(\"x\").str.get(0).str.strip().astype(\"float\")"
   ]
  },
  {
   "cell_type": "markdown",
   "id": "d293d599",
   "metadata": {},
   "source": [
    "**Processor Gen**"
   ]
  },
  {
   "cell_type": "code",
   "execution_count": 1028,
   "id": "8be2af53",
   "metadata": {
    "collapsed": true
   },
   "outputs": [
    {
     "name": "stdout",
     "output_type": "stream",
     "text": [
      "55\n",
      "<class 'pandas.core.series.Series'>\n",
      "RangeIndex: 1020 entries, 0 to 1019\n",
      "Series name: processor_gen\n",
      "Non-Null Count  Dtype \n",
      "--------------  ----- \n",
      "965 non-null    object\n",
      "dtypes: object(1)\n",
      "memory usage: 8.1+ KB\n",
      "None\n",
      "12    276\n",
      "13    257\n",
      "7     143\n",
      "11    137\n",
      "5      96\n",
      "6      17\n",
      "3      16\n",
      "10     13\n",
      "4       6\n",
      "8       3\n",
      "9       1\n",
      "Name: processor_gen, dtype: int64\n",
      "count     965\n",
      "unique     11\n",
      "top        12\n",
      "freq      276\n",
      "Name: processor_gen, dtype: object\n"
     ]
    }
   ],
   "source": [
    "print(df[\"processor_gen\"].isnull().sum())\n",
    "print(df[\"processor_gen\"].info())\n",
    "print(df[\"processor_gen\"].value_counts())\n",
    "print(df[\"processor_gen\"].describe())"
   ]
  },
  {
   "cell_type": "code",
   "execution_count": 1029,
   "id": "dab3fb42",
   "metadata": {},
   "outputs": [],
   "source": [
    "df[\"processor_gen\"]=df[\"processor_gen\"].astype(\"float\")"
   ]
  },
  {
   "cell_type": "markdown",
   "id": "2ae4713d",
   "metadata": {},
   "source": [
    "**Processor Brand**"
   ]
  },
  {
   "cell_type": "code",
   "execution_count": 1030,
   "id": "62fc4219",
   "metadata": {
    "collapsed": true
   },
   "outputs": [
    {
     "name": "stdout",
     "output_type": "stream",
     "text": [
      "0\n",
      "<class 'pandas.core.series.Series'>\n",
      "RangeIndex: 1020 entries, 0 to 1019\n",
      "Series name: processor_brand\n",
      "Non-Null Count  Dtype \n",
      "--------------  ----- \n",
      "1020 non-null   object\n",
      "dtypes: object(1)\n",
      "memory usage: 8.1+ KB\n",
      "None\n",
      "intel       732\n",
      "amd         278\n",
      "apple         8\n",
      "mediatek      2\n",
      "Name: processor_brand, dtype: int64\n",
      "count      1020\n",
      "unique        4\n",
      "top       intel\n",
      "freq        732\n",
      "Name: processor_brand, dtype: object\n"
     ]
    }
   ],
   "source": [
    "print(df[\"processor_brand\"].isnull().sum())\n",
    "print(df[\"processor_brand\"].info())\n",
    "print(df[\"processor_brand\"].value_counts())\n",
    "print(df[\"processor_brand\"].describe())"
   ]
  },
  {
   "cell_type": "markdown",
   "id": "599c6c44",
   "metadata": {},
   "source": [
    "**Processor Model**"
   ]
  },
  {
   "cell_type": "code",
   "execution_count": 1031,
   "id": "b98d9d6d",
   "metadata": {
    "collapsed": true
   },
   "outputs": [
    {
     "name": "stdout",
     "output_type": "stream",
     "text": [
      "0\n",
      "<class 'pandas.core.series.Series'>\n",
      "RangeIndex: 1020 entries, 0 to 1019\n",
      "Series name: processor_model\n",
      "Non-Null Count  Dtype \n",
      "--------------  ----- \n",
      "1020 non-null   object\n",
      "dtypes: object(1)\n",
      "memory usage: 8.1+ KB\n",
      "None\n",
      "i5    338\n",
      "i7    184\n",
      "5     151\n",
      "i3    125\n",
      "3     108\n",
      "7      57\n",
      "i9     49\n",
      "M2      6\n",
      "M1      2\n",
      "Name: processor_model, dtype: int64\n",
      "count     1020\n",
      "unique       9\n",
      "top         i5\n",
      "freq       338\n",
      "Name: processor_model, dtype: object\n"
     ]
    }
   ],
   "source": [
    "print(df[\"processor_model\"].isnull().sum())\n",
    "print(df[\"processor_model\"].info())\n",
    "print(df[\"processor_model\"].value_counts())\n",
    "print(df[\"processor_model\"].describe())"
   ]
  },
  {
   "cell_type": "markdown",
   "id": "032e9bc3",
   "metadata": {},
   "source": [
    "**Graphic Brand**"
   ]
  },
  {
   "cell_type": "code",
   "execution_count": 1035,
   "id": "3990d36a",
   "metadata": {
    "collapsed": true
   },
   "outputs": [
    {
     "name": "stdout",
     "output_type": "stream",
     "text": [
      "1\n",
      "<class 'pandas.core.series.Series'>\n",
      "RangeIndex: 1020 entries, 0 to 1019\n",
      "Series name: graphics_brand\n",
      "Non-Null Count  Dtype \n",
      "--------------  ----- \n",
      "1019 non-null   object\n",
      "dtypes: object(1)\n",
      "memory usage: 8.1+ KB\n",
      "None\n",
      "intel     434\n",
      "nvidia    401\n",
      "amd       174\n",
      "apple       8\n",
      "arm         2\n",
      "Name: graphics_brand, dtype: int64\n",
      "count      1019\n",
      "unique        5\n",
      "top       intel\n",
      "freq        434\n",
      "Name: graphics_brand, dtype: object\n"
     ]
    }
   ],
   "source": [
    "print(df[\"graphics_brand\"].isnull().sum())\n",
    "print(df[\"graphics_brand\"].info())\n",
    "print(df[\"graphics_brand\"].value_counts())\n",
    "print(df[\"graphics_brand\"].describe())"
   ]
  },
  {
   "cell_type": "markdown",
   "id": "89473579",
   "metadata": {},
   "source": [
    "**Graphic Capacity**"
   ]
  },
  {
   "cell_type": "code",
   "execution_count": 1071,
   "id": "013225c0",
   "metadata": {
    "collapsed": true
   },
   "outputs": [
    {
     "name": "stdout",
     "output_type": "stream",
     "text": [
      "607\n",
      "<class 'pandas.core.series.Series'>\n",
      "RangeIndex: 1020 entries, 0 to 1019\n",
      "Series name: graphics_capacity\n",
      "Non-Null Count  Dtype \n",
      "--------------  ----- \n",
      "413 non-null    object\n",
      "dtypes: object(1)\n",
      "memory usage: 8.1+ KB\n",
      "None\n",
      "4     190\n",
      "8      96\n",
      "6      90\n",
      "16     13\n",
      "2      11\n",
      "12     11\n",
      "10      2\n",
      "Name: graphics_capacity, dtype: int64\n",
      "count     413\n",
      "unique      7\n",
      "top         4\n",
      "freq      190\n",
      "Name: graphics_capacity, dtype: object\n"
     ]
    }
   ],
   "source": [
    "print(df[\"graphics_capacity\"].isnull().sum())\n",
    "print(df[\"graphics_capacity\"].info())\n",
    "print(df[\"graphics_capacity\"].value_counts())\n",
    "print(df[\"graphics_capacity\"].describe())"
   ]
  },
  {
   "cell_type": "code",
   "execution_count": 1072,
   "id": "e7727d9e",
   "metadata": {},
   "outputs": [],
   "source": [
    "df[\"graphics_capacity\"]=df[\"graphics_capacity\"].astype(\"float\")"
   ]
  },
  {
   "cell_type": "markdown",
   "id": "4ae6866b",
   "metadata": {},
   "source": [
    "**Graphic Model**"
   ]
  },
  {
   "cell_type": "code",
   "execution_count": 1073,
   "id": "03523c99",
   "metadata": {
    "collapsed": true
   },
   "outputs": [
    {
     "name": "stdout",
     "output_type": "stream",
     "text": [
      "0\n",
      "<class 'pandas.core.series.Series'>\n",
      "RangeIndex: 1020 entries, 0 to 1019\n",
      "Series name: graphics_model\n",
      "Non-Null Count  Dtype \n",
      "--------------  ----- \n",
      "1020 non-null   object\n",
      "dtypes: object(1)\n",
      "memory usage: 8.1+ KB\n",
      "None\n",
      "Integrated    622\n",
      "rtx3050       104\n",
      "rtx4060        64\n",
      "rtx4050        61\n",
      "rtx2050        45\n",
      "gtx1650        34\n",
      "rtx4070        24\n",
      "rtx4090         9\n",
      "rtx4080         8\n",
      "rtx3060         7\n",
      "rx6500m         7\n",
      "mx450           6\n",
      "t600            6\n",
      "rtx3070ti       5\n",
      "rtx3080ti       4\n",
      "t550            3\n",
      "mx550           2\n",
      "gtx2050         2\n",
      "mx570           2\n",
      "rx5600m         1\n",
      "rx7600s         1\n",
      "mx130           1\n",
      "rtx2060         1\n",
      "t500            1\n",
      "Name: graphics_model, dtype: int64\n",
      "count           1020\n",
      "unique            24\n",
      "top       Integrated\n",
      "freq             622\n",
      "Name: graphics_model, dtype: object\n"
     ]
    }
   ],
   "source": [
    "print(df[\"graphics_model\"].isnull().sum())\n",
    "print(df[\"graphics_model\"].info())\n",
    "print(df[\"graphics_model\"].value_counts())\n",
    "print(df[\"graphics_model\"].describe())"
   ]
  },
  {
   "cell_type": "code",
   "execution_count": null,
   "id": "83d91175",
   "metadata": {},
   "outputs": [],
   "source": [
    "#i think we should add one more column of \"laptop_model\""
   ]
  },
  {
   "cell_type": "code",
   "execution_count": 1201,
   "id": "fcc1776a",
   "metadata": {},
   "outputs": [],
   "source": [
    "df.drop([\"sdd\",\"hard_disk\"],axis=1,inplace=True)"
   ]
  },
  {
   "cell_type": "code",
   "execution_count": 1205,
   "id": "d79cee25",
   "metadata": {},
   "outputs": [],
   "source": [
    "df[\"thickness\"]=df[\"thickness\"].astype(\"float\")"
   ]
  },
  {
   "cell_type": "code",
   "execution_count": 1207,
   "id": "2c5154e0",
   "metadata": {},
   "outputs": [],
   "source": [
    "df[\"num_votes\"]=df[\"num_votes\"].astype(\"float\")"
   ]
  },
  {
   "cell_type": "code",
   "execution_count": 1210,
   "id": "ef5a15d1",
   "metadata": {},
   "outputs": [],
   "source": [
    "#i think we should add one more column of \"laptop_model\"\n",
    "temp_df=pd.read_csv(\"smartprix_laptop.csv\",index_col=0)"
   ]
  },
  {
   "cell_type": "code",
   "execution_count": 1213,
   "id": "3745c207",
   "metadata": {},
   "outputs": [],
   "source": [
    "df.loc[temp_df[\"name\"].index,\"laptop_model\"]=temp_df[\"name\"]"
   ]
  },
  {
   "cell_type": "code",
   "execution_count": 1217,
   "id": "1a6fbc32",
   "metadata": {},
   "outputs": [],
   "source": [
    "#Now export the file\n",
    "df.to_csv(\"laptop_cleaned_dataset.csv\",index=False)"
   ]
  },
  {
   "cell_type": "code",
   "execution_count": null,
   "id": "3ede9df1",
   "metadata": {},
   "outputs": [],
   "source": []
  }
 ],
 "metadata": {
  "kernelspec": {
   "display_name": "Python 3 (ipykernel)",
   "language": "python",
   "name": "python3"
  },
  "language_info": {
   "codemirror_mode": {
    "name": "ipython",
    "version": 3
   },
   "file_extension": ".py",
   "mimetype": "text/x-python",
   "name": "python",
   "nbconvert_exporter": "python",
   "pygments_lexer": "ipython3",
   "version": "3.11.4"
  }
 },
 "nbformat": 4,
 "nbformat_minor": 5
}
